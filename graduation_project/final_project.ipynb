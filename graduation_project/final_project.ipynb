{
 "cells": [
  {
   "cell_type": "markdown",
   "id": "246dcea5",
   "metadata": {},
   "source": [
    "## Ignore Warnings"
   ]
  },
  {
   "cell_type": "code",
   "execution_count": 1,
   "id": "fc5eff67",
   "metadata": {},
   "outputs": [],
   "source": [
    "import warnings\n",
    "warnings.filterwarnings(\"ignore\")"
   ]
  },
  {
   "cell_type": "code",
   "execution_count": 2,
   "id": "bffa2815",
   "metadata": {},
   "outputs": [],
   "source": [
    "import pandas as pd\n",
    "import matplotlib.pyplot as plt"
   ]
  },
  {
   "cell_type": "markdown",
   "id": "331d7b26",
   "metadata": {},
   "source": [
    "## Import the Dataset"
   ]
  },
  {
   "cell_type": "code",
   "execution_count": 3,
   "id": "5835a9f3",
   "metadata": {},
   "outputs": [],
   "source": [
    "data = pd.read_csv('data/Emotion_final.csv')"
   ]
  },
  {
   "cell_type": "code",
   "execution_count": 4,
   "id": "2ce0d253",
   "metadata": {},
   "outputs": [
    {
     "data": {
      "text/html": [
       "<div>\n",
       "<style scoped>\n",
       "    .dataframe tbody tr th:only-of-type {\n",
       "        vertical-align: middle;\n",
       "    }\n",
       "\n",
       "    .dataframe tbody tr th {\n",
       "        vertical-align: top;\n",
       "    }\n",
       "\n",
       "    .dataframe thead th {\n",
       "        text-align: right;\n",
       "    }\n",
       "</style>\n",
       "<table border=\"1\" class=\"dataframe\">\n",
       "  <thead>\n",
       "    <tr style=\"text-align: right;\">\n",
       "      <th></th>\n",
       "      <th>Text</th>\n",
       "      <th>Emotion</th>\n",
       "    </tr>\n",
       "  </thead>\n",
       "  <tbody>\n",
       "    <tr>\n",
       "      <th>0</th>\n",
       "      <td>i didnt feel humiliated</td>\n",
       "      <td>sadness</td>\n",
       "    </tr>\n",
       "    <tr>\n",
       "      <th>1</th>\n",
       "      <td>i can go from feeling so hopeless to so damned...</td>\n",
       "      <td>sadness</td>\n",
       "    </tr>\n",
       "    <tr>\n",
       "      <th>2</th>\n",
       "      <td>im grabbing a minute to post i feel greedy wrong</td>\n",
       "      <td>anger</td>\n",
       "    </tr>\n",
       "    <tr>\n",
       "      <th>3</th>\n",
       "      <td>i am ever feeling nostalgic about the fireplac...</td>\n",
       "      <td>love</td>\n",
       "    </tr>\n",
       "    <tr>\n",
       "      <th>4</th>\n",
       "      <td>i am feeling grouchy</td>\n",
       "      <td>anger</td>\n",
       "    </tr>\n",
       "  </tbody>\n",
       "</table>\n",
       "</div>"
      ],
      "text/plain": [
       "                                                Text  Emotion\n",
       "0                            i didnt feel humiliated  sadness\n",
       "1  i can go from feeling so hopeless to so damned...  sadness\n",
       "2   im grabbing a minute to post i feel greedy wrong    anger\n",
       "3  i am ever feeling nostalgic about the fireplac...     love\n",
       "4                               i am feeling grouchy    anger"
      ]
     },
     "execution_count": 4,
     "metadata": {},
     "output_type": "execute_result"
    }
   ],
   "source": [
    "data.head()"
   ]
  },
  {
   "cell_type": "markdown",
   "id": "93c9ff4e",
   "metadata": {},
   "source": [
    "## Counts of Sentiments"
   ]
  },
  {
   "cell_type": "code",
   "execution_count": 5,
   "id": "3db9973e",
   "metadata": {},
   "outputs": [
    {
     "data": {
      "text/plain": [
       "happy       7029\n",
       "sadness     6265\n",
       "anger       2993\n",
       "fear        2652\n",
       "love        1641\n",
       "surprise     879\n",
       "Name: Emotion, dtype: int64"
      ]
     },
     "execution_count": 5,
     "metadata": {},
     "output_type": "execute_result"
    }
   ],
   "source": [
    "data.Emotion.value_counts()"
   ]
  },
  {
   "cell_type": "code",
   "execution_count": 6,
   "id": "4f9617c0",
   "metadata": {},
   "outputs": [
    {
     "data": {
      "text/plain": [
       "(21459, 2)"
      ]
     },
     "execution_count": 6,
     "metadata": {},
     "output_type": "execute_result"
    }
   ],
   "source": [
    "data.shape"
   ]
  },
  {
   "cell_type": "markdown",
   "id": "978bb924",
   "metadata": {},
   "source": [
    "## Encode the Sentiments"
   ]
  },
  {
   "cell_type": "code",
   "execution_count": 7,
   "id": "a6e86d7b",
   "metadata": {},
   "outputs": [],
   "source": [
    "from sklearn.preprocessing import LabelEncoder"
   ]
  },
  {
   "cell_type": "code",
   "execution_count": 8,
   "id": "714b465a",
   "metadata": {},
   "outputs": [],
   "source": [
    "le = LabelEncoder()"
   ]
  },
  {
   "cell_type": "code",
   "execution_count": 9,
   "id": "cb785717",
   "metadata": {},
   "outputs": [],
   "source": [
    "data['Emotion_Le'] = le.fit_transform(data['Emotion'])"
   ]
  },
  {
   "cell_type": "code",
   "execution_count": 10,
   "id": "2153cde3",
   "metadata": {},
   "outputs": [
    {
     "data": {
      "text/plain": [
       "0        4\n",
       "1        4\n",
       "2        0\n",
       "3        3\n",
       "4        0\n",
       "        ..\n",
       "21454    1\n",
       "21455    1\n",
       "21456    1\n",
       "21457    1\n",
       "21458    1\n",
       "Name: Emotion_Le, Length: 21459, dtype: int64"
      ]
     },
     "execution_count": 10,
     "metadata": {},
     "output_type": "execute_result"
    }
   ],
   "source": [
    "data['Emotion_Le']"
   ]
  },
  {
   "cell_type": "markdown",
   "id": "1e239a5e",
   "metadata": {},
   "source": [
    "## Import nltk, download 'stopwords' and create the object lemmatizer"
   ]
  },
  {
   "cell_type": "code",
   "execution_count": 11,
   "id": "15b65037",
   "metadata": {},
   "outputs": [
    {
     "name": "stderr",
     "output_type": "stream",
     "text": [
      "[nltk_data] Downloading package stopwords to /home/mertc/nltk_data...\n",
      "[nltk_data]   Package stopwords is already up-to-date!\n"
     ]
    }
   ],
   "source": [
    "import re\n",
    "import nltk\n",
    "nltk.download('stopwords')\n",
    "from nltk.corpus import stopwords\n",
    "from nltk.tokenize import word_tokenize\n",
    "from nltk.stem import WordNetLemmatizer\n",
    "lemmatizer = WordNetLemmatizer()"
   ]
  },
  {
   "cell_type": "code",
   "execution_count": 12,
   "id": "70f1ac11",
   "metadata": {},
   "outputs": [],
   "source": [
    "def clean_up_sentence(sentence):\n",
    "    sentence_words = nltk.word_tokenize(sentence)\n",
    "    sentence_words = [lemmatizer.lemmatize(word.lower()) for word in sentence_words]\n",
    "    return sentence"
   ]
  },
  {
   "cell_type": "code",
   "execution_count": 13,
   "id": "f02f01b4",
   "metadata": {},
   "outputs": [],
   "source": [
    "corpus = list()\n",
    "for i in range(data.shape[0]):\n",
    "    sentence = re.sub('[^a-zA-Z]', ' ', data['Text'][i])\n",
    "    sentence = sentence.lower() # stringin tüm harflerini küçültür.\n",
    "    sentence = clean_up_sentence(sentence)\n",
    "    # 'stem' ile kelimenin kökünü alıyoruz\n",
    "    corpus.append(sentence)"
   ]
  },
  {
   "cell_type": "code",
   "execution_count": 15,
   "id": "5ca4f8d5",
   "metadata": {},
   "outputs": [],
   "source": [
    "# Feature Extraction (Öznitelik Çıkarımı)\n",
    "from sklearn.feature_extraction.text import CountVectorizer\n",
    "cVectorizer = CountVectorizer(max_features=2000)\n",
    "# 'max_features=2000' anlamı, en fazla kullanılan 2000 kelimeyi al, fazlasını alma!!\n",
    "X = cVectorizer.fit_transform(corpus).toarray() # bağımsız değişken\n",
    "y = data['Emotion_Le'].values # bağımlı değişken"
   ]
  },
  {
   "cell_type": "markdown",
   "id": "ec1c815a",
   "metadata": {},
   "source": [
    "## Split the data as train, test and validation"
   ]
  },
  {
   "cell_type": "code",
   "execution_count": 18,
   "id": "45e02066",
   "metadata": {},
   "outputs": [],
   "source": [
    "from sklearn.model_selection import train_test_split\n",
    "X_train, X_test, y_train, y_test = train_test_split(X, y, test_size = 0.20, random_state=0)\n",
    "X_train, X_val, y_train, y_val = train_test_split(X_train, y_train, test_size = 0.20, random_state=0)"
   ]
  },
  {
   "cell_type": "markdown",
   "id": "6f172307",
   "metadata": {},
   "source": [
    "# Random Forest"
   ]
  },
  {
   "cell_type": "code",
   "execution_count": 19,
   "id": "49ca256c",
   "metadata": {},
   "outputs": [],
   "source": [
    "from sklearn.ensemble import RandomForestClassifier"
   ]
  },
  {
   "cell_type": "code",
   "execution_count": 20,
   "id": "9af0ac6e",
   "metadata": {},
   "outputs": [],
   "source": [
    "rnd_clf = RandomForestClassifier().fit(X_train, y_train)"
   ]
  },
  {
   "cell_type": "code",
   "execution_count": 21,
   "id": "5d7edee9",
   "metadata": {},
   "outputs": [],
   "source": [
    "y_pred = rnd_clf.predict(X_test)"
   ]
  },
  {
   "cell_type": "code",
   "execution_count": 22,
   "id": "431ca188",
   "metadata": {},
   "outputs": [],
   "source": [
    "from sklearn.metrics import accuracy_score"
   ]
  },
  {
   "cell_type": "code",
   "execution_count": 23,
   "id": "fc8d9c87",
   "metadata": {},
   "outputs": [
    {
     "data": {
      "text/plain": [
       "0.8560111835973905"
      ]
     },
     "execution_count": 23,
     "metadata": {},
     "output_type": "execute_result"
    }
   ],
   "source": [
    "accuracy_score(y_test, y_pred)"
   ]
  },
  {
   "cell_type": "markdown",
   "id": "1ac71e49",
   "metadata": {},
   "source": [
    "# Logistic Regression"
   ]
  },
  {
   "cell_type": "code",
   "execution_count": 24,
   "id": "c3604138",
   "metadata": {},
   "outputs": [],
   "source": [
    "from sklearn.linear_model import LogisticRegression"
   ]
  },
  {
   "cell_type": "code",
   "execution_count": 25,
   "id": "771e6ccb",
   "metadata": {},
   "outputs": [],
   "source": [
    "log_clf = LogisticRegression().fit(X_train, y_train)"
   ]
  },
  {
   "cell_type": "code",
   "execution_count": 26,
   "id": "5cd79657",
   "metadata": {},
   "outputs": [],
   "source": [
    "y_pred = log_clf.predict(X_test)"
   ]
  },
  {
   "cell_type": "code",
   "execution_count": 27,
   "id": "9a3d06fd",
   "metadata": {},
   "outputs": [
    {
     "data": {
      "text/plain": [
       "0.8681267474370923"
      ]
     },
     "execution_count": 27,
     "metadata": {},
     "output_type": "execute_result"
    }
   ],
   "source": [
    "accuracy_score(y_test, y_pred)"
   ]
  },
  {
   "cell_type": "markdown",
   "id": "7c17dfa8",
   "metadata": {},
   "source": [
    "## Hyperparameter Optimization using GridSearchCV"
   ]
  },
  {
   "cell_type": "code",
   "execution_count": 28,
   "id": "e7a31073",
   "metadata": {},
   "outputs": [],
   "source": [
    "from sklearn.model_selection import GridSearchCV"
   ]
  },
  {
   "cell_type": "code",
   "execution_count": 29,
   "id": "636e0688",
   "metadata": {},
   "outputs": [],
   "source": [
    "param_grid = {\n",
    "    \"penalty\": ['l1', 'l2', 'elasticnet', 'none'],\n",
    "    \"dual\": [True, False],\n",
    "    \"fit_intercept\": [True, False],\n",
    "    \"solver\": ['newton-cg', 'lbfgs', 'liblinear', 'sag', 'saga']\n",
    "}"
   ]
  },
  {
   "cell_type": "code",
   "execution_count": 30,
   "id": "83c1bc65",
   "metadata": {},
   "outputs": [
    {
     "name": "stdout",
     "output_type": "stream",
     "text": [
      "Fitting 10 folds for each of 80 candidates, totalling 800 fits\n"
     ]
    },
    {
     "name": "stderr",
     "output_type": "stream",
     "text": [
      "[Parallel(n_jobs=-1)]: Using backend LokyBackend with 12 concurrent workers.\n",
      "[Parallel(n_jobs=-1)]: Done  17 tasks      | elapsed:    1.1s\n",
      "[Parallel(n_jobs=-1)]: Done 180 tasks      | elapsed:    3.3s\n",
      "[Parallel(n_jobs=-1)]: Done 536 tasks      | elapsed:  2.0min\n",
      "[Parallel(n_jobs=-1)]: Done 800 out of 800 | elapsed:  7.8min finished\n"
     ]
    }
   ],
   "source": [
    "log_clf = LogisticRegression()\n",
    "grid_model = GridSearchCV(log_clf, param_grid, n_jobs=-1, cv=10, verbose=2).fit(X_val, y_val)"
   ]
  },
  {
   "cell_type": "markdown",
   "id": "4c0911ac",
   "metadata": {},
   "source": [
    "### Best Parameters"
   ]
  },
  {
   "cell_type": "code",
   "execution_count": 31,
   "id": "bec79f30",
   "metadata": {},
   "outputs": [
    {
     "data": {
      "text/plain": [
       "{'dual': False, 'fit_intercept': True, 'penalty': 'l1', 'solver': 'liblinear'}"
      ]
     },
     "execution_count": 31,
     "metadata": {},
     "output_type": "execute_result"
    }
   ],
   "source": [
    "grid_model.best_params_"
   ]
  },
  {
   "cell_type": "markdown",
   "id": "0aa03d1a",
   "metadata": {},
   "source": [
    "### Final Model"
   ]
  },
  {
   "cell_type": "code",
   "execution_count": 32,
   "id": "c3728ac6",
   "metadata": {},
   "outputs": [],
   "source": [
    "log_final = LogisticRegression(dual=grid_model.best_params_['dual'], \n",
    "                               fit_intercept=grid_model.best_params_['fit_intercept'], \n",
    "                               penalty=grid_model.best_params_['penalty'], \n",
    "                               solver=grid_model.best_params_['solver']\n",
    "                              ).fit(X_train, y_train)"
   ]
  },
  {
   "cell_type": "code",
   "execution_count": 33,
   "id": "803680c5",
   "metadata": {},
   "outputs": [],
   "source": [
    "y_pred = log_final.predict(X_test)"
   ]
  },
  {
   "cell_type": "code",
   "execution_count": 34,
   "id": "4e2bd30c",
   "metadata": {},
   "outputs": [
    {
     "data": {
      "text/plain": [
       "0.8851351351351351"
      ]
     },
     "execution_count": 34,
     "metadata": {},
     "output_type": "execute_result"
    }
   ],
   "source": [
    "accuracy_score(y_test, y_pred)"
   ]
  },
  {
   "cell_type": "markdown",
   "id": "bdf80ecf",
   "metadata": {},
   "source": [
    "# Deep Learning(Keras)"
   ]
  },
  {
   "cell_type": "code",
   "execution_count": 35,
   "id": "5c963189",
   "metadata": {},
   "outputs": [],
   "source": [
    "import keras"
   ]
  },
  {
   "cell_type": "code",
   "execution_count": 36,
   "id": "aaa6ebfe",
   "metadata": {},
   "outputs": [
    {
     "data": {
      "text/plain": [
       "(13733, 2000)"
      ]
     },
     "execution_count": 36,
     "metadata": {},
     "output_type": "execute_result"
    }
   ],
   "source": [
    "X_train.shape"
   ]
  },
  {
   "cell_type": "markdown",
   "id": "c8d81a1e",
   "metadata": {},
   "source": [
    "## Create Deep Learning Model"
   ]
  },
  {
   "cell_type": "code",
   "execution_count": 37,
   "id": "53a405f7",
   "metadata": {},
   "outputs": [
    {
     "name": "stdout",
     "output_type": "stream",
     "text": [
      "Model: \"sequential\"\n",
      "_________________________________________________________________\n",
      " Layer (type)                Output Shape              Param #   \n",
      "=================================================================\n",
      " dense (Dense)               (None, 64)                128064    \n",
      "                                                                 \n",
      " dropout (Dropout)           (None, 64)                0         \n",
      "                                                                 \n",
      " dense_1 (Dense)             (None, 6)                 390       \n",
      "                                                                 \n",
      "=================================================================\n",
      "Total params: 128,454\n",
      "Trainable params: 128,454\n",
      "Non-trainable params: 0\n",
      "_________________________________________________________________\n"
     ]
    }
   ],
   "source": [
    "model = keras.models.Sequential()\n",
    "\n",
    "model.add(keras.Input(shape=(2000, )))\n",
    "model.add(keras.layers.Dense(64, activation='relu'))\n",
    "model.add(keras.layers.Dropout(0.50))\n",
    "model.add(keras.layers.Dense(6, activation='softmax'))\n",
    "\n",
    "model.summary()"
   ]
  },
  {
   "cell_type": "markdown",
   "id": "be5bfb74",
   "metadata": {},
   "source": [
    "### Compiling and training"
   ]
  },
  {
   "cell_type": "code",
   "execution_count": 38,
   "id": "66b0cc61",
   "metadata": {},
   "outputs": [],
   "source": [
    "model.compile(loss=keras.losses.sparse_categorical_crossentropy,\n",
    "              optimizer=keras.optimizers.adamax_v2.Adamax(),\n",
    "              metrics=['acc'])"
   ]
  },
  {
   "cell_type": "code",
   "execution_count": 39,
   "id": "7ae577da",
   "metadata": {},
   "outputs": [
    {
     "name": "stdout",
     "output_type": "stream",
     "text": [
      "Epoch 1/20\n",
      "859/859 [==============================] - 4s 4ms/step - loss: 1.6004 - acc: 0.3568 - val_loss: 1.5150 - val_acc: 0.4461\n",
      "Epoch 2/20\n",
      "859/859 [==============================] - 3s 4ms/step - loss: 1.4695 - acc: 0.4419 - val_loss: 1.4011 - val_acc: 0.5058\n",
      "Epoch 3/20\n",
      "859/859 [==============================] - 3s 4ms/step - loss: 1.3388 - acc: 0.5100 - val_loss: 1.2634 - val_acc: 0.5588\n",
      "Epoch 4/20\n",
      "859/859 [==============================] - 3s 4ms/step - loss: 1.1929 - acc: 0.5824 - val_loss: 1.1187 - val_acc: 0.6214\n",
      "Epoch 5/20\n",
      "859/859 [==============================] - 4s 4ms/step - loss: 1.0472 - acc: 0.6504 - val_loss: 0.9732 - val_acc: 0.6948\n",
      "Epoch 6/20\n",
      "859/859 [==============================] - 3s 4ms/step - loss: 0.8972 - acc: 0.7166 - val_loss: 0.8382 - val_acc: 0.7510\n",
      "Epoch 7/20\n",
      "859/859 [==============================] - 3s 4ms/step - loss: 0.7813 - acc: 0.7590 - val_loss: 0.7304 - val_acc: 0.7912\n",
      "Epoch 8/20\n",
      "859/859 [==============================] - 4s 5ms/step - loss: 0.6741 - acc: 0.8060 - val_loss: 0.6425 - val_acc: 0.8081\n",
      "Epoch 9/20\n",
      "859/859 [==============================] - 5s 5ms/step - loss: 0.5948 - acc: 0.8295 - val_loss: 0.5755 - val_acc: 0.8270\n",
      "Epoch 10/20\n",
      "859/859 [==============================] - 5s 5ms/step - loss: 0.5306 - acc: 0.8473 - val_loss: 0.5215 - val_acc: 0.8381\n",
      "Epoch 11/20\n",
      "859/859 [==============================] - 4s 5ms/step - loss: 0.4713 - acc: 0.8634 - val_loss: 0.4851 - val_acc: 0.8413\n",
      "Epoch 12/20\n",
      "859/859 [==============================] - 4s 5ms/step - loss: 0.4322 - acc: 0.8740 - val_loss: 0.4534 - val_acc: 0.8454\n",
      "Epoch 13/20\n",
      "859/859 [==============================] - 4s 5ms/step - loss: 0.3943 - acc: 0.8888 - val_loss: 0.4303 - val_acc: 0.8497\n",
      "Epoch 14/20\n",
      "859/859 [==============================] - 4s 5ms/step - loss: 0.3717 - acc: 0.8917 - val_loss: 0.4187 - val_acc: 0.8494\n",
      "Epoch 15/20\n",
      "859/859 [==============================] - 4s 4ms/step - loss: 0.3436 - acc: 0.8973 - val_loss: 0.3991 - val_acc: 0.8579\n",
      "Epoch 16/20\n",
      "859/859 [==============================] - 3s 4ms/step - loss: 0.3252 - acc: 0.8997 - val_loss: 0.3917 - val_acc: 0.8544\n",
      "Epoch 17/20\n",
      "859/859 [==============================] - 4s 4ms/step - loss: 0.3066 - acc: 0.9081 - val_loss: 0.3793 - val_acc: 0.8605\n",
      "Epoch 18/20\n",
      "859/859 [==============================] - 4s 4ms/step - loss: 0.2906 - acc: 0.9084 - val_loss: 0.3738 - val_acc: 0.8608\n",
      "Epoch 19/20\n",
      "859/859 [==============================] - 3s 4ms/step - loss: 0.2800 - acc: 0.9127 - val_loss: 0.3736 - val_acc: 0.8602\n",
      "Epoch 20/20\n",
      "859/859 [==============================] - 3s 4ms/step - loss: 0.2648 - acc: 0.9174 - val_loss: 0.3665 - val_acc: 0.8631\n"
     ]
    }
   ],
   "source": [
    "epochs=20\n",
    "history = model.fit(X_train, y_train, batch_size=16, epochs=epochs, validation_data=(X_val, y_val))"
   ]
  },
  {
   "cell_type": "markdown",
   "id": "fb8b6f2a",
   "metadata": {},
   "source": [
    "### Plot the training"
   ]
  },
  {
   "cell_type": "code",
   "execution_count": 40,
   "id": "be9e3f9b",
   "metadata": {},
   "outputs": [
    {
     "data": {
      "image/png": "[encoded data removed]",
      "text/plain": [
       "<Figure size 504x360 with 1 Axes>"
      ]
     },
     "metadata": {},
     "output_type": "display_data"
    },
    {
     "data": {
      "image/png": "[encoded data removed]",
      "text/plain": [
       "<Figure size 504x360 with 1 Axes>"
      ]
     },
     "metadata": {},
     "output_type": "display_data"
    }
   ],
   "source": [
    "plt.style.use(\"seaborn-darkgrid\")\n",
    "train_loss = history.history['loss']\n",
    "val_loss = history.history['val_loss']\n",
    "train_acc = history.history['acc']\n",
    "val_acc = history.history['val_acc']\n",
    "xc = range(epochs)\n",
    "\n",
    "plt.figure(1, figsize=(7,5))\n",
    "plt.plot(xc, train_loss)\n",
    "plt.plot(xc, val_loss)\n",
    "plt.xlabel('Number of Epochs')\n",
    "plt.ylabel('loss')\n",
    "plt.title('train_loss vs val_loss')\n",
    "plt.grid(True)\n",
    "plt.legend(['Train','Validation'])\n",
    "\n",
    "plt.figure(2, figsize=(7,5))\n",
    "plt.plot(xc, train_acc)\n",
    "plt.plot(xc, val_acc)\n",
    "plt.xlabel('Number of Epochs')\n",
    "plt.ylabel('Accuracy')\n",
    "plt.title('Train Accuracy vs Validation Accuracy')\n",
    "plt.grid(True)\n",
    "plt.legend(['Train','Validation'], loc = 4)\n",
    "plt.style.use(\"seaborn-darkgrid\")\n",
    "\n",
    "plt.show()"
   ]
  },
  {
   "cell_type": "markdown",
   "id": "d93cf2e8",
   "metadata": {},
   "source": [
    "### Results of several metrics"
   ]
  },
  {
   "cell_type": "code",
   "execution_count": 41,
   "id": "b459f016",
   "metadata": {},
   "outputs": [],
   "source": [
    "from sklearn.metrics import accuracy_score, balanced_accuracy_score, f1_score, confusion_matrix, recall_score, cohen_kappa_score, precision_score\n",
    "import numpy as np\n",
    "\n",
    "def metric(X_test, y_test, model, model_name:str): \n",
    "    y_pred = model.predict(X_test)\n",
    "    y_pred = np.argmax(y_pred, axis=1)\n",
    "\n",
    "    print('{} Model Accuracy Score:  {:.2}'.format(model_name,  accuracy_score(y_test, y_pred)))\n",
    "    print('\\n{} Model Balanced Accuracy Score: {:.2} '.format(model_name, balanced_accuracy_score(y_test, y_pred)))\n",
    "    print('\\n{} Model F1 Score: {:.2} '.format(model_name, f1_score(y_test, y_pred, pos_label='positive', average='micro')))\n",
    "    print('\\n{} Model Precision Score: {:.2} '.format(model_name, precision_score(y_test, y_pred, pos_label='positive', average='micro')))\n",
    "    print('\\n{} Model Cohen Kappa Score: {:.2} '.format(model_name, cohen_kappa_score(y_test, y_pred)))\n",
    "    print('\\n{} Model Recall Score: {:.2} '.format(model_name, recall_score(y_test, y_pred, pos_label='positive', average='micro')))"
   ]
  },
  {
   "cell_type": "code",
   "execution_count": 42,
   "id": "d60618c1",
   "metadata": {},
   "outputs": [
    {
     "name": "stdout",
     "output_type": "stream",
     "text": [
      "MLPC Model Accuracy Score:  0.87\n",
      "\n",
      "MLPC Model Balanced Accuracy Score: 0.83 \n",
      "\n",
      "MLPC Model F1 Score: 0.87 \n",
      "\n",
      "MLPC Model Precision Score: 0.87 \n",
      "\n",
      "MLPC Model Cohen Kappa Score: 0.84 \n",
      "\n",
      "MLPC Model Recall Score: 0.87 \n"
     ]
    }
   ],
   "source": [
    "metric(X_test, y_test, model, model_name=\"MLPC\")"
   ]
  },
  {
   "cell_type": "code",
   "execution_count": 43,
   "id": "957e88ff",
   "metadata": {},
   "outputs": [
    {
     "name": "stdout",
     "output_type": "stream",
     "text": [
      "135/135 [==============================] - 0s 3ms/step - loss: 0.3447 - acc: 0.8749\n"
     ]
    },
    {
     "data": {
      "text/plain": [
       "[0.344655841588974, 0.8748835325241089]"
      ]
     },
     "execution_count": 43,
     "metadata": {},
     "output_type": "execute_result"
    }
   ],
   "source": [
    "model.evaluate(X_test, y_test)"
   ]
  },
  {
   "cell_type": "markdown",
   "id": "2bf772a4",
   "metadata": {},
   "source": [
    "# Deep Learning(PyTorch)"
   ]
  },
  {
   "cell_type": "code",
   "execution_count": 44,
   "id": "3ef060fe",
   "metadata": {},
   "outputs": [],
   "source": [
    "import torch\n",
    "import torch.nn as nn"
   ]
  },
  {
   "cell_type": "markdown",
   "id": "c787bd03",
   "metadata": {},
   "source": [
    "### Create Class of Net"
   ]
  },
  {
   "cell_type": "code",
   "execution_count": 45,
   "id": "e2652ffe",
   "metadata": {},
   "outputs": [],
   "source": [
    "class Net(nn.Module):\n",
    "\n",
    "    def __init__(self):\n",
    "        super(Net, self).__init__()\n",
    "        self.dense1 = nn.Linear(2000, 64)\n",
    "        self.dropout = nn.Dropout(0.50)\n",
    "        self.dense2 = nn.Linear(64, 6)\n",
    "\n",
    "    def forward(self, x):\n",
    "        x_1 = torch.relu(self.dense1(x))\n",
    "        x_2 = self.dropout(x_1)\n",
    "        x_3 = self.dense2(x_2)\n",
    "        return x_3\n",
    "\n",
    "model = Net()"
   ]
  },
  {
   "cell_type": "code",
   "execution_count": 46,
   "id": "47af7f32",
   "metadata": {},
   "outputs": [
    {
     "data": {
      "text/plain": [
       "Net(\n",
       "  (dense1): Linear(in_features=2000, out_features=64, bias=True)\n",
       "  (dropout): Dropout(p=0.5, inplace=False)\n",
       "  (dense2): Linear(in_features=64, out_features=6, bias=True)\n",
       ")"
      ]
     },
     "execution_count": 46,
     "metadata": {},
     "output_type": "execute_result"
    }
   ],
   "source": [
    "model"
   ]
  },
  {
   "cell_type": "markdown",
   "id": "9aa044ed",
   "metadata": {},
   "source": [
    "### Define the criterion and optimizer"
   ]
  },
  {
   "cell_type": "code",
   "execution_count": 47,
   "id": "84b494dd",
   "metadata": {},
   "outputs": [],
   "source": [
    "criterion = nn.CrossEntropyLoss()\n",
    "optimizer = torch.optim.Adamax(model.parameters())"
   ]
  },
  {
   "cell_type": "code",
   "execution_count": 48,
   "id": "0fa3d7c0",
   "metadata": {},
   "outputs": [
    {
     "data": {
      "text/plain": [
       "array([2, 3, 0, ..., 2, 1, 1])"
      ]
     },
     "execution_count": 48,
     "metadata": {},
     "output_type": "execute_result"
    }
   ],
   "source": [
    "y_train"
   ]
  },
  {
   "cell_type": "code",
   "execution_count": 49,
   "id": "620c291d",
   "metadata": {},
   "outputs": [],
   "source": [
    "X_train_t = torch.from_numpy(X_train)\n",
    "X_test_t = torch.from_numpy(X_test)\n",
    "y_train_t = torch.from_numpy(y_train)\n",
    "y_test_t = torch.from_numpy(y_test)"
   ]
  },
  {
   "cell_type": "code",
   "execution_count": 50,
   "id": "d4acc5ab",
   "metadata": {},
   "outputs": [],
   "source": [
    "trainloader = torch.utils.data.DataLoader(torch.utils.data.TensorDataset(X_train_t, y_train_t), batch_size=16)"
   ]
  },
  {
   "cell_type": "markdown",
   "id": "2d3ed07b",
   "metadata": {},
   "source": [
    "### Training"
   ]
  },
  {
   "cell_type": "code",
   "execution_count": 51,
   "id": "b5071a3f",
   "metadata": {},
   "outputs": [],
   "source": [
    "for i in range(20):\n",
    "    for t, data_t in enumerate(trainloader):\n",
    "        inputs, labels = data_t\n",
    "        optimizer.zero_grad()\n",
    "        y_pred = model(inputs.float())\n",
    "        loss = criterion(y_pred, labels.long())\n",
    "        loss.backward()\n",
    "        optimizer.step()"
   ]
  },
  {
   "cell_type": "code",
   "execution_count": 52,
   "id": "b7d9340a",
   "metadata": {},
   "outputs": [],
   "source": [
    "y_pred = model(X_test_t.float())\n",
    "y_pred = y_pred.detach().numpy()"
   ]
  },
  {
   "cell_type": "code",
   "execution_count": 53,
   "id": "5e826932",
   "metadata": {},
   "outputs": [],
   "source": [
    "y_pred = 1 * (y_pred > 0.5)"
   ]
  },
  {
   "cell_type": "code",
   "execution_count": 54,
   "id": "8b1668d5",
   "metadata": {},
   "outputs": [],
   "source": [
    "y_pred = np.argmax(y_pred, axis=1)"
   ]
  },
  {
   "cell_type": "markdown",
   "id": "13823f3a",
   "metadata": {},
   "source": [
    "### Results"
   ]
  },
  {
   "cell_type": "code",
   "execution_count": 55,
   "id": "d5ccd5d9",
   "metadata": {},
   "outputs": [
    {
     "name": "stdout",
     "output_type": "stream",
     "text": [
      "Confusion Matrix: \n",
      " [[ 565    5   13    2   15    0]\n",
      " [  59  436   11    2   15    3]\n",
      " [  71   13 1281   17   14    3]\n",
      " [  17    3  129  169    6    1]\n",
      " [ 120   45   91    5  997    0]\n",
      " [  16   54   19    1    6   88]]\n",
      "Accuracy: 0.824\n"
     ]
    }
   ],
   "source": [
    "print(\"Confusion Matrix: \\n {}\".format(confusion_matrix(y_test, y_pred)))\n",
    "print(\"Accuracy: {:.3}\".format(accuracy_score(y_test, y_pred)))"
   ]
  },
  {
   "cell_type": "markdown",
   "id": "bf43de9f",
   "metadata": {},
   "source": [
    "***logistic regression gave the best result according to the results, save the model***"
   ]
  },
  {
   "cell_type": "code",
   "execution_count": 56,
   "id": "8aa32247",
   "metadata": {},
   "outputs": [],
   "source": [
    "import pickle"
   ]
  },
  {
   "cell_type": "code",
   "execution_count": 57,
   "id": "489830a2",
   "metadata": {},
   "outputs": [],
   "source": [
    "filename = \"log_final_model.sav\"\n",
    "pickle.dump(rnd_clf, open(filename, 'wb'))"
   ]
  },
  {
   "cell_type": "code",
   "execution_count": 58,
   "id": "cf6eade8",
   "metadata": {},
   "outputs": [],
   "source": [
    "loaded_model = pickle.load(open(filename, 'rb'))"
   ]
  },
  {
   "cell_type": "code",
   "execution_count": 59,
   "id": "2bec0832",
   "metadata": {},
   "outputs": [],
   "source": [
    "result = loaded_model.score(X_test, y_test)"
   ]
  },
  {
   "cell_type": "code",
   "execution_count": 60,
   "id": "21ad8b69",
   "metadata": {},
   "outputs": [
    {
     "name": "stdout",
     "output_type": "stream",
     "text": [
      "0.8560111835973905\n"
     ]
    }
   ],
   "source": [
    "print(result)"
   ]
  },
  {
   "cell_type": "markdown",
   "id": "d444240b",
   "metadata": {},
   "source": [
    "### Save the Vectorizer for transforming the text data"
   ]
  },
  {
   "cell_type": "code",
   "execution_count": 61,
   "id": "24abfd58",
   "metadata": {},
   "outputs": [],
   "source": [
    "filename = \"cVectorizer.sav\"\n",
    "pickle.dump(cVectorizer, open(filename, 'wb'))"
   ]
  },
  {
   "cell_type": "code",
   "execution_count": 62,
   "id": "724ba35e",
   "metadata": {},
   "outputs": [],
   "source": [
    "cVectorizer = pickle.load(open(\"cVectorizer.sav\", 'rb'))"
   ]
  },
  {
   "cell_type": "markdown",
   "id": "0ed0ddcf",
   "metadata": {},
   "source": [
    "### Match the labels with the numbers and create dictionary"
   ]
  },
  {
   "cell_type": "code",
   "execution_count": 63,
   "id": "4fd88db2",
   "metadata": {},
   "outputs": [],
   "source": [
    "values = data['Emotion'].value_counts()"
   ]
  },
  {
   "cell_type": "code",
   "execution_count": 64,
   "id": "d1b5eab8",
   "metadata": {},
   "outputs": [],
   "source": [
    "keys = data['Emotion_Le'].value_counts()"
   ]
  },
  {
   "cell_type": "code",
   "execution_count": 65,
   "id": "8c9f53f3",
   "metadata": {},
   "outputs": [
    {
     "data": {
      "text/plain": [
       "2    7029\n",
       "4    6265\n",
       "0    2993\n",
       "1    2652\n",
       "3    1641\n",
       "5     879\n",
       "Name: Emotion_Le, dtype: int64"
      ]
     },
     "execution_count": 65,
     "metadata": {},
     "output_type": "execute_result"
    }
   ],
   "source": [
    "keys"
   ]
  },
  {
   "cell_type": "code",
   "execution_count": 66,
   "id": "073ad852",
   "metadata": {},
   "outputs": [
    {
     "data": {
      "text/plain": [
       "happy       7029\n",
       "sadness     6265\n",
       "anger       2993\n",
       "fear        2652\n",
       "love        1641\n",
       "surprise     879\n",
       "Name: Emotion, dtype: int64"
      ]
     },
     "execution_count": 66,
     "metadata": {},
     "output_type": "execute_result"
    }
   ],
   "source": [
    "values"
   ]
  },
  {
   "cell_type": "code",
   "execution_count": 67,
   "id": "a88fe672",
   "metadata": {},
   "outputs": [
    {
     "data": {
      "text/plain": [
       "[2, 4, 0, 1, 3, 5]"
      ]
     },
     "execution_count": 67,
     "metadata": {},
     "output_type": "execute_result"
    }
   ],
   "source": [
    "keys.index.tolist()"
   ]
  },
  {
   "cell_type": "code",
   "execution_count": 68,
   "id": "ac1c4921",
   "metadata": {},
   "outputs": [
    {
     "data": {
      "text/plain": [
       "['happy', 'sadness', 'anger', 'fear', 'love', 'surprise']"
      ]
     },
     "execution_count": 68,
     "metadata": {},
     "output_type": "execute_result"
    }
   ],
   "source": [
    "values.index.tolist()"
   ]
  },
  {
   "cell_type": "code",
   "execution_count": 69,
   "id": "7a787a65",
   "metadata": {},
   "outputs": [],
   "source": [
    "dict_sentiment = dict(zip(keys.index.tolist(), values.index.tolist()))"
   ]
  },
  {
   "cell_type": "code",
   "execution_count": 70,
   "id": "055218b8",
   "metadata": {},
   "outputs": [
    {
     "data": {
      "text/plain": [
       "{2: 'happy', 4: 'sadness', 0: 'anger', 1: 'fear', 3: 'love', 5: 'surprise'}"
      ]
     },
     "execution_count": 70,
     "metadata": {},
     "output_type": "execute_result"
    }
   ],
   "source": [
    "dict_sentiment"
   ]
  },
  {
   "cell_type": "code",
   "execution_count": 71,
   "id": "2de45ba3",
   "metadata": {},
   "outputs": [],
   "source": [
    "import pickle"
   ]
  },
  {
   "cell_type": "code",
   "execution_count": 72,
   "id": "04585cf3",
   "metadata": {},
   "outputs": [],
   "source": [
    "filename = \"dictionary.sav\"\n",
    "pickle.dump(dict_sentiment, open(filename, 'wb'))"
   ]
  },
  {
   "cell_type": "code",
   "execution_count": 73,
   "id": "d119c393",
   "metadata": {},
   "outputs": [
    {
     "data": {
      "text/plain": [
       "'fear'"
      ]
     },
     "execution_count": 73,
     "metadata": {},
     "output_type": "execute_result"
    }
   ],
   "source": [
    "dict_sentiment.get(1)"
   ]
  },
  {
   "cell_type": "code",
   "execution_count": null,
   "id": "1aa2510a",
   "metadata": {},
   "outputs": [],
   "source": []
  }
 ],
 "metadata": {
  "kernelspec": {
   "display_name": "Python 3",
   "language": "python",
   "name": "python3"
  },
  "language_info": {
   "codemirror_mode": {
    "name": "ipython",
    "version": 3
   },
   "file_extension": ".py",
   "mimetype": "text/x-python",
   "name": "python",
   "nbconvert_exporter": "python",
   "pygments_lexer": "ipython3",
   "version": "3.8.3"
  }
 },
 "nbformat": 4,
 "nbformat_minor": 5
}
