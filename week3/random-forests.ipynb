{
 "cells": [
  {
   "cell_type": "code",
   "execution_count": 1,
   "id": "ebd80e93",
   "metadata": {
    "_cell_guid": "b1076dfc-b9ad-4769-8c92-a6c4dae69d19",
    "_uuid": "8f2839f25d086af736a60e9eeb907d3b93b6e0e5",
    "execution": {
     "iopub.execute_input": "2022-02-20T12:27:06.384357Z",
     "iopub.status.busy": "2022-02-20T12:27:06.383729Z",
     "iopub.status.idle": "2022-02-20T12:27:06.395651Z",
     "shell.execute_reply": "2022-02-20T12:27:06.396390Z",
     "shell.execute_reply.started": "2022-02-20T12:25:54.090288Z"
    },
    "papermill": {
     "duration": 0.049638,
     "end_time": "2022-02-20T12:27:06.397084",
     "exception": false,
     "start_time": "2022-02-20T12:27:06.347446",
     "status": "completed"
    },
    "tags": []
   },
   "outputs": [
    {
     "name": "stdout",
     "output_type": "stream",
     "text": [
      "/kaggle/input/glass/glass.csv\n"
     ]
    }
   ],
   "source": [
    "# This Python 3 environment comes with many helpful analytics libraries installed\n",
    "# It is defined by the kaggle/python Docker image: https://github.com/kaggle/docker-python\n",
    "# For example, here's several helpful packages to load\n",
    "\n",
    "import numpy as np # linear algebra\n",
    "import pandas as pd # data processing, CSV file I/O (e.g. pd.read_csv)\n",
    "\n",
    "# Input data files are available in the read-only \"../input/\" directory\n",
    "# For example, running this (by clicking run or pressing Shift+Enter) will list all files under the input directory\n",
    "\n",
    "import os\n",
    "for dirname, _, filenames in os.walk('/kaggle/input'):\n",
    "    for filename in filenames:\n",
    "        print(os.path.join(dirname, filename))\n",
    "\n",
    "# You can write up to 20GB to the current directory (/kaggle/working/) that gets preserved as output when you create a version using \"Save & Run All\" \n",
    "# You can also write temporary files to /kaggle/temp/, but they won't be saved outside of the current session"
   ]
  },
  {
   "cell_type": "code",
   "execution_count": 2,
   "id": "6c2c4015",
   "metadata": {
    "execution": {
     "iopub.execute_input": "2022-02-20T12:27:06.450497Z",
     "iopub.status.busy": "2022-02-20T12:27:06.449507Z",
     "iopub.status.idle": "2022-02-20T12:27:06.466607Z",
     "shell.execute_reply": "2022-02-20T12:27:06.467135Z",
     "shell.execute_reply.started": "2022-02-20T12:25:54.109025Z"
    },
    "papermill": {
     "duration": 0.045448,
     "end_time": "2022-02-20T12:27:06.467323",
     "exception": false,
     "start_time": "2022-02-20T12:27:06.421875",
     "status": "completed"
    },
    "tags": []
   },
   "outputs": [],
   "source": [
    "df=pd.read_csv('../input/glass/glass.csv')"
   ]
  },
  {
   "cell_type": "code",
   "execution_count": 3,
   "id": "19de92e6",
   "metadata": {
    "execution": {
     "iopub.execute_input": "2022-02-20T12:27:06.524124Z",
     "iopub.status.busy": "2022-02-20T12:27:06.523217Z",
     "iopub.status.idle": "2022-02-20T12:27:06.554497Z",
     "shell.execute_reply": "2022-02-20T12:27:06.555308Z",
     "shell.execute_reply.started": "2022-02-20T12:25:54.120219Z"
    },
    "papermill": {
     "duration": 0.059815,
     "end_time": "2022-02-20T12:27:06.555554",
     "exception": false,
     "start_time": "2022-02-20T12:27:06.495739",
     "status": "completed"
    },
    "tags": []
   },
   "outputs": [
    {
     "data": {
      "text/html": [
       "<div>\n",
       "<style scoped>\n",
       "    .dataframe tbody tr th:only-of-type {\n",
       "        vertical-align: middle;\n",
       "    }\n",
       "\n",
       "    .dataframe tbody tr th {\n",
       "        vertical-align: top;\n",
       "    }\n",
       "\n",
       "    .dataframe thead th {\n",
       "        text-align: right;\n",
       "    }\n",
       "</style>\n",
       "<table border=\"1\" class=\"dataframe\">\n",
       "  <thead>\n",
       "    <tr style=\"text-align: right;\">\n",
       "      <th></th>\n",
       "      <th>RI</th>\n",
       "      <th>Na</th>\n",
       "      <th>Mg</th>\n",
       "      <th>Al</th>\n",
       "      <th>Si</th>\n",
       "      <th>K</th>\n",
       "      <th>Ca</th>\n",
       "      <th>Ba</th>\n",
       "      <th>Fe</th>\n",
       "      <th>Type</th>\n",
       "    </tr>\n",
       "  </thead>\n",
       "  <tbody>\n",
       "    <tr>\n",
       "      <th>0</th>\n",
       "      <td>1.52101</td>\n",
       "      <td>13.64</td>\n",
       "      <td>4.49</td>\n",
       "      <td>1.10</td>\n",
       "      <td>71.78</td>\n",
       "      <td>0.06</td>\n",
       "      <td>8.75</td>\n",
       "      <td>0.0</td>\n",
       "      <td>0.0</td>\n",
       "      <td>1</td>\n",
       "    </tr>\n",
       "    <tr>\n",
       "      <th>1</th>\n",
       "      <td>1.51761</td>\n",
       "      <td>13.89</td>\n",
       "      <td>3.60</td>\n",
       "      <td>1.36</td>\n",
       "      <td>72.73</td>\n",
       "      <td>0.48</td>\n",
       "      <td>7.83</td>\n",
       "      <td>0.0</td>\n",
       "      <td>0.0</td>\n",
       "      <td>1</td>\n",
       "    </tr>\n",
       "    <tr>\n",
       "      <th>2</th>\n",
       "      <td>1.51618</td>\n",
       "      <td>13.53</td>\n",
       "      <td>3.55</td>\n",
       "      <td>1.54</td>\n",
       "      <td>72.99</td>\n",
       "      <td>0.39</td>\n",
       "      <td>7.78</td>\n",
       "      <td>0.0</td>\n",
       "      <td>0.0</td>\n",
       "      <td>1</td>\n",
       "    </tr>\n",
       "    <tr>\n",
       "      <th>3</th>\n",
       "      <td>1.51766</td>\n",
       "      <td>13.21</td>\n",
       "      <td>3.69</td>\n",
       "      <td>1.29</td>\n",
       "      <td>72.61</td>\n",
       "      <td>0.57</td>\n",
       "      <td>8.22</td>\n",
       "      <td>0.0</td>\n",
       "      <td>0.0</td>\n",
       "      <td>1</td>\n",
       "    </tr>\n",
       "    <tr>\n",
       "      <th>4</th>\n",
       "      <td>1.51742</td>\n",
       "      <td>13.27</td>\n",
       "      <td>3.62</td>\n",
       "      <td>1.24</td>\n",
       "      <td>73.08</td>\n",
       "      <td>0.55</td>\n",
       "      <td>8.07</td>\n",
       "      <td>0.0</td>\n",
       "      <td>0.0</td>\n",
       "      <td>1</td>\n",
       "    </tr>\n",
       "  </tbody>\n",
       "</table>\n",
       "</div>"
      ],
      "text/plain": [
       "        RI     Na    Mg    Al     Si     K    Ca   Ba   Fe  Type\n",
       "0  1.52101  13.64  4.49  1.10  71.78  0.06  8.75  0.0  0.0     1\n",
       "1  1.51761  13.89  3.60  1.36  72.73  0.48  7.83  0.0  0.0     1\n",
       "2  1.51618  13.53  3.55  1.54  72.99  0.39  7.78  0.0  0.0     1\n",
       "3  1.51766  13.21  3.69  1.29  72.61  0.57  8.22  0.0  0.0     1\n",
       "4  1.51742  13.27  3.62  1.24  73.08  0.55  8.07  0.0  0.0     1"
      ]
     },
     "execution_count": 3,
     "metadata": {},
     "output_type": "execute_result"
    }
   ],
   "source": [
    "df.head()"
   ]
  },
  {
   "cell_type": "code",
   "execution_count": 4,
   "id": "584bb748",
   "metadata": {
    "execution": {
     "iopub.execute_input": "2022-02-20T12:27:06.614097Z",
     "iopub.status.busy": "2022-02-20T12:27:06.613404Z",
     "iopub.status.idle": "2022-02-20T12:27:06.626123Z",
     "shell.execute_reply": "2022-02-20T12:27:06.626612Z",
     "shell.execute_reply.started": "2022-02-20T12:25:54.137339Z"
    },
    "papermill": {
     "duration": 0.04042,
     "end_time": "2022-02-20T12:27:06.626774",
     "exception": false,
     "start_time": "2022-02-20T12:27:06.586354",
     "status": "completed"
    },
    "tags": []
   },
   "outputs": [
    {
     "data": {
      "text/plain": [
       "2    76\n",
       "1    70\n",
       "7    29\n",
       "3    17\n",
       "5    13\n",
       "6     9\n",
       "Name: Type, dtype: int64"
      ]
     },
     "execution_count": 4,
     "metadata": {},
     "output_type": "execute_result"
    }
   ],
   "source": [
    "df['Type'].value_counts()"
   ]
  },
  {
   "cell_type": "code",
   "execution_count": 5,
   "id": "995f77b8",
   "metadata": {
    "execution": {
     "iopub.execute_input": "2022-02-20T12:27:06.685747Z",
     "iopub.status.busy": "2022-02-20T12:27:06.684835Z",
     "iopub.status.idle": "2022-02-20T12:27:06.689526Z",
     "shell.execute_reply": "2022-02-20T12:27:06.690216Z",
     "shell.execute_reply.started": "2022-02-20T12:25:54.145774Z"
    },
    "papermill": {
     "duration": 0.039704,
     "end_time": "2022-02-20T12:27:06.690449",
     "exception": false,
     "start_time": "2022-02-20T12:27:06.650745",
     "status": "completed"
    },
    "tags": []
   },
   "outputs": [
    {
     "data": {
      "text/plain": [
       "(214, 10)"
      ]
     },
     "execution_count": 5,
     "metadata": {},
     "output_type": "execute_result"
    }
   ],
   "source": [
    "df.shape"
   ]
  },
  {
   "cell_type": "code",
   "execution_count": 6,
   "id": "9f489ab4",
   "metadata": {
    "execution": {
     "iopub.execute_input": "2022-02-20T12:27:06.746632Z",
     "iopub.status.busy": "2022-02-20T12:27:06.745744Z",
     "iopub.status.idle": "2022-02-20T12:27:06.751834Z",
     "shell.execute_reply": "2022-02-20T12:27:06.752465Z",
     "shell.execute_reply.started": "2022-02-20T12:25:54.154492Z"
    },
    "papermill": {
     "duration": 0.033926,
     "end_time": "2022-02-20T12:27:06.752632",
     "exception": false,
     "start_time": "2022-02-20T12:27:06.718706",
     "status": "completed"
    },
    "tags": []
   },
   "outputs": [
    {
     "data": {
      "text/plain": [
       "Index(['RI', 'Na', 'Mg', 'Al', 'Si', 'K', 'Ca', 'Ba', 'Fe', 'Type'], dtype='object')"
      ]
     },
     "execution_count": 6,
     "metadata": {},
     "output_type": "execute_result"
    }
   ],
   "source": [
    "df.columns"
   ]
  },
  {
   "cell_type": "code",
   "execution_count": 7,
   "id": "93b2703c",
   "metadata": {
    "execution": {
     "iopub.execute_input": "2022-02-20T12:27:06.813266Z",
     "iopub.status.busy": "2022-02-20T12:27:06.812589Z",
     "iopub.status.idle": "2022-02-20T12:27:06.856295Z",
     "shell.execute_reply": "2022-02-20T12:27:06.856782Z",
     "shell.execute_reply.started": "2022-02-20T12:25:54.164560Z"
    },
    "papermill": {
     "duration": 0.074973,
     "end_time": "2022-02-20T12:27:06.856980",
     "exception": false,
     "start_time": "2022-02-20T12:27:06.782007",
     "status": "completed"
    },
    "tags": []
   },
   "outputs": [
    {
     "data": {
      "text/html": [
       "<div>\n",
       "<style scoped>\n",
       "    .dataframe tbody tr th:only-of-type {\n",
       "        vertical-align: middle;\n",
       "    }\n",
       "\n",
       "    .dataframe tbody tr th {\n",
       "        vertical-align: top;\n",
       "    }\n",
       "\n",
       "    .dataframe thead th {\n",
       "        text-align: right;\n",
       "    }\n",
       "</style>\n",
       "<table border=\"1\" class=\"dataframe\">\n",
       "  <thead>\n",
       "    <tr style=\"text-align: right;\">\n",
       "      <th></th>\n",
       "      <th>RI</th>\n",
       "      <th>Na</th>\n",
       "      <th>Mg</th>\n",
       "      <th>Al</th>\n",
       "      <th>Si</th>\n",
       "      <th>K</th>\n",
       "      <th>Ca</th>\n",
       "      <th>Ba</th>\n",
       "      <th>Fe</th>\n",
       "      <th>Type</th>\n",
       "    </tr>\n",
       "  </thead>\n",
       "  <tbody>\n",
       "    <tr>\n",
       "      <th>count</th>\n",
       "      <td>214.000000</td>\n",
       "      <td>214.000000</td>\n",
       "      <td>214.000000</td>\n",
       "      <td>214.000000</td>\n",
       "      <td>214.000000</td>\n",
       "      <td>214.000000</td>\n",
       "      <td>214.000000</td>\n",
       "      <td>214.000000</td>\n",
       "      <td>214.000000</td>\n",
       "      <td>214.000000</td>\n",
       "    </tr>\n",
       "    <tr>\n",
       "      <th>mean</th>\n",
       "      <td>1.518365</td>\n",
       "      <td>13.407850</td>\n",
       "      <td>2.684533</td>\n",
       "      <td>1.444907</td>\n",
       "      <td>72.650935</td>\n",
       "      <td>0.497056</td>\n",
       "      <td>8.956963</td>\n",
       "      <td>0.175047</td>\n",
       "      <td>0.057009</td>\n",
       "      <td>2.780374</td>\n",
       "    </tr>\n",
       "    <tr>\n",
       "      <th>std</th>\n",
       "      <td>0.003037</td>\n",
       "      <td>0.816604</td>\n",
       "      <td>1.442408</td>\n",
       "      <td>0.499270</td>\n",
       "      <td>0.774546</td>\n",
       "      <td>0.652192</td>\n",
       "      <td>1.423153</td>\n",
       "      <td>0.497219</td>\n",
       "      <td>0.097439</td>\n",
       "      <td>2.103739</td>\n",
       "    </tr>\n",
       "    <tr>\n",
       "      <th>min</th>\n",
       "      <td>1.511150</td>\n",
       "      <td>10.730000</td>\n",
       "      <td>0.000000</td>\n",
       "      <td>0.290000</td>\n",
       "      <td>69.810000</td>\n",
       "      <td>0.000000</td>\n",
       "      <td>5.430000</td>\n",
       "      <td>0.000000</td>\n",
       "      <td>0.000000</td>\n",
       "      <td>1.000000</td>\n",
       "    </tr>\n",
       "    <tr>\n",
       "      <th>25%</th>\n",
       "      <td>1.516522</td>\n",
       "      <td>12.907500</td>\n",
       "      <td>2.115000</td>\n",
       "      <td>1.190000</td>\n",
       "      <td>72.280000</td>\n",
       "      <td>0.122500</td>\n",
       "      <td>8.240000</td>\n",
       "      <td>0.000000</td>\n",
       "      <td>0.000000</td>\n",
       "      <td>1.000000</td>\n",
       "    </tr>\n",
       "    <tr>\n",
       "      <th>50%</th>\n",
       "      <td>1.517680</td>\n",
       "      <td>13.300000</td>\n",
       "      <td>3.480000</td>\n",
       "      <td>1.360000</td>\n",
       "      <td>72.790000</td>\n",
       "      <td>0.555000</td>\n",
       "      <td>8.600000</td>\n",
       "      <td>0.000000</td>\n",
       "      <td>0.000000</td>\n",
       "      <td>2.000000</td>\n",
       "    </tr>\n",
       "    <tr>\n",
       "      <th>75%</th>\n",
       "      <td>1.519157</td>\n",
       "      <td>13.825000</td>\n",
       "      <td>3.600000</td>\n",
       "      <td>1.630000</td>\n",
       "      <td>73.087500</td>\n",
       "      <td>0.610000</td>\n",
       "      <td>9.172500</td>\n",
       "      <td>0.000000</td>\n",
       "      <td>0.100000</td>\n",
       "      <td>3.000000</td>\n",
       "    </tr>\n",
       "    <tr>\n",
       "      <th>max</th>\n",
       "      <td>1.533930</td>\n",
       "      <td>17.380000</td>\n",
       "      <td>4.490000</td>\n",
       "      <td>3.500000</td>\n",
       "      <td>75.410000</td>\n",
       "      <td>6.210000</td>\n",
       "      <td>16.190000</td>\n",
       "      <td>3.150000</td>\n",
       "      <td>0.510000</td>\n",
       "      <td>7.000000</td>\n",
       "    </tr>\n",
       "  </tbody>\n",
       "</table>\n",
       "</div>"
      ],
      "text/plain": [
       "               RI          Na          Mg          Al          Si           K  \\\n",
       "count  214.000000  214.000000  214.000000  214.000000  214.000000  214.000000   \n",
       "mean     1.518365   13.407850    2.684533    1.444907   72.650935    0.497056   \n",
       "std      0.003037    0.816604    1.442408    0.499270    0.774546    0.652192   \n",
       "min      1.511150   10.730000    0.000000    0.290000   69.810000    0.000000   \n",
       "25%      1.516522   12.907500    2.115000    1.190000   72.280000    0.122500   \n",
       "50%      1.517680   13.300000    3.480000    1.360000   72.790000    0.555000   \n",
       "75%      1.519157   13.825000    3.600000    1.630000   73.087500    0.610000   \n",
       "max      1.533930   17.380000    4.490000    3.500000   75.410000    6.210000   \n",
       "\n",
       "               Ca          Ba          Fe        Type  \n",
       "count  214.000000  214.000000  214.000000  214.000000  \n",
       "mean     8.956963    0.175047    0.057009    2.780374  \n",
       "std      1.423153    0.497219    0.097439    2.103739  \n",
       "min      5.430000    0.000000    0.000000    1.000000  \n",
       "25%      8.240000    0.000000    0.000000    1.000000  \n",
       "50%      8.600000    0.000000    0.000000    2.000000  \n",
       "75%      9.172500    0.000000    0.100000    3.000000  \n",
       "max     16.190000    3.150000    0.510000    7.000000  "
      ]
     },
     "execution_count": 7,
     "metadata": {},
     "output_type": "execute_result"
    }
   ],
   "source": [
    "df.describe()"
   ]
  },
  {
   "cell_type": "code",
   "execution_count": 8,
   "id": "d82bba0e",
   "metadata": {
    "execution": {
     "iopub.execute_input": "2022-02-20T12:27:06.911721Z",
     "iopub.status.busy": "2022-02-20T12:27:06.910769Z",
     "iopub.status.idle": "2022-02-20T12:27:06.926961Z",
     "shell.execute_reply": "2022-02-20T12:27:06.928009Z",
     "shell.execute_reply.started": "2022-02-20T12:25:54.204665Z"
    },
    "papermill": {
     "duration": 0.045245,
     "end_time": "2022-02-20T12:27:06.928302",
     "exception": false,
     "start_time": "2022-02-20T12:27:06.883057",
     "status": "completed"
    },
    "tags": []
   },
   "outputs": [
    {
     "name": "stdout",
     "output_type": "stream",
     "text": [
      "<class 'pandas.core.frame.DataFrame'>\n",
      "RangeIndex: 214 entries, 0 to 213\n",
      "Data columns (total 10 columns):\n",
      " #   Column  Non-Null Count  Dtype  \n",
      "---  ------  --------------  -----  \n",
      " 0   RI      214 non-null    float64\n",
      " 1   Na      214 non-null    float64\n",
      " 2   Mg      214 non-null    float64\n",
      " 3   Al      214 non-null    float64\n",
      " 4   Si      214 non-null    float64\n",
      " 5   K       214 non-null    float64\n",
      " 6   Ca      214 non-null    float64\n",
      " 7   Ba      214 non-null    float64\n",
      " 8   Fe      214 non-null    float64\n",
      " 9   Type    214 non-null    int64  \n",
      "dtypes: float64(9), int64(1)\n",
      "memory usage: 16.8 KB\n"
     ]
    }
   ],
   "source": [
    "df.info()"
   ]
  },
  {
   "cell_type": "code",
   "execution_count": 9,
   "id": "5fd61db0",
   "metadata": {
    "execution": {
     "iopub.execute_input": "2022-02-20T12:27:06.985207Z",
     "iopub.status.busy": "2022-02-20T12:27:06.984277Z",
     "iopub.status.idle": "2022-02-20T12:27:08.813770Z",
     "shell.execute_reply": "2022-02-20T12:27:08.814292Z",
     "shell.execute_reply.started": "2022-02-20T12:25:54.217298Z"
    },
    "papermill": {
     "duration": 1.858877,
     "end_time": "2022-02-20T12:27:08.814464",
     "exception": false,
     "start_time": "2022-02-20T12:27:06.955587",
     "status": "completed"
    },
    "tags": []
   },
   "outputs": [
    {
     "data": {
      "image/png": "[encoded data removed]",
      "text/plain": [
       "<Figure size 432x288 with 2 Axes>"
      ]
     },
     "metadata": {
      "needs_background": "light"
     },
     "output_type": "display_data"
    }
   ],
   "source": [
    "import seaborn as sns\n",
    "corr = df.corr()\n",
    "sns.heatmap(corr, annot=True);"
   ]
  },
  {
   "cell_type": "code",
   "execution_count": 10,
   "id": "8e01ddbe",
   "metadata": {
    "execution": {
     "iopub.execute_input": "2022-02-20T12:27:08.877476Z",
     "iopub.status.busy": "2022-02-20T12:27:08.876540Z",
     "iopub.status.idle": "2022-02-20T12:27:08.879455Z",
     "shell.execute_reply": "2022-02-20T12:27:08.878865Z",
     "shell.execute_reply.started": "2022-02-20T12:25:54.936246Z"
    },
    "papermill": {
     "duration": 0.037305,
     "end_time": "2022-02-20T12:27:08.879588",
     "exception": false,
     "start_time": "2022-02-20T12:27:08.842283",
     "status": "completed"
    },
    "tags": []
   },
   "outputs": [],
   "source": [
    "X = df.drop(['Type'], axis=1)\n",
    "y = df['Type']"
   ]
  },
  {
   "cell_type": "code",
   "execution_count": 11,
   "id": "c3407669",
   "metadata": {
    "execution": {
     "iopub.execute_input": "2022-02-20T12:27:08.938963Z",
     "iopub.status.busy": "2022-02-20T12:27:08.938244Z",
     "iopub.status.idle": "2022-02-20T12:27:09.139265Z",
     "shell.execute_reply": "2022-02-20T12:27:09.139782Z",
     "shell.execute_reply.started": "2022-02-20T12:25:54.942361Z"
    },
    "papermill": {
     "duration": 0.232835,
     "end_time": "2022-02-20T12:27:09.139960",
     "exception": false,
     "start_time": "2022-02-20T12:27:08.907125",
     "status": "completed"
    },
    "tags": []
   },
   "outputs": [
    {
     "data": {
      "image/png": "[encoded data removed]",
      "text/plain": [
       "<Figure size 432x288 with 1 Axes>"
      ]
     },
     "metadata": {
      "needs_background": "light"
     },
     "output_type": "display_data"
    }
   ],
   "source": [
    "sns.countplot(x = df['Type']);"
   ]
  },
  {
   "cell_type": "code",
   "execution_count": 12,
   "id": "69f89ae0",
   "metadata": {
    "execution": {
     "iopub.execute_input": "2022-02-20T12:27:09.200044Z",
     "iopub.status.busy": "2022-02-20T12:27:09.199306Z",
     "iopub.status.idle": "2022-02-20T12:27:09.367094Z",
     "shell.execute_reply": "2022-02-20T12:27:09.366006Z",
     "shell.execute_reply.started": "2022-02-20T12:25:55.132392Z"
    },
    "papermill": {
     "duration": 0.199128,
     "end_time": "2022-02-20T12:27:09.367239",
     "exception": false,
     "start_time": "2022-02-20T12:27:09.168111",
     "status": "completed"
    },
    "tags": []
   },
   "outputs": [],
   "source": [
    "from sklearn.model_selection import train_test_split"
   ]
  },
  {
   "cell_type": "code",
   "execution_count": 13,
   "id": "a6e2897b",
   "metadata": {
    "execution": {
     "iopub.execute_input": "2022-02-20T12:27:09.431281Z",
     "iopub.status.busy": "2022-02-20T12:27:09.430276Z",
     "iopub.status.idle": "2022-02-20T12:27:09.432284Z",
     "shell.execute_reply": "2022-02-20T12:27:09.432857Z",
     "shell.execute_reply.started": "2022-02-20T12:25:55.138198Z"
    },
    "papermill": {
     "duration": 0.037723,
     "end_time": "2022-02-20T12:27:09.433023",
     "exception": false,
     "start_time": "2022-02-20T12:27:09.395300",
     "status": "completed"
    },
    "tags": []
   },
   "outputs": [],
   "source": [
    "X_train, X_test, y_train, y_test = train_test_split(X, y, test_size=0.3, random_state=0)"
   ]
  },
  {
   "cell_type": "code",
   "execution_count": 14,
   "id": "37c9bec8",
   "metadata": {
    "execution": {
     "iopub.execute_input": "2022-02-20T12:27:09.494079Z",
     "iopub.status.busy": "2022-02-20T12:27:09.493380Z",
     "iopub.status.idle": "2022-02-20T12:27:09.682876Z",
     "shell.execute_reply": "2022-02-20T12:27:09.682265Z",
     "shell.execute_reply.started": "2022-02-20T12:25:55.149321Z"
    },
    "papermill": {
     "duration": 0.221047,
     "end_time": "2022-02-20T12:27:09.683014",
     "exception": false,
     "start_time": "2022-02-20T12:27:09.461967",
     "status": "completed"
    },
    "tags": []
   },
   "outputs": [],
   "source": [
    "from sklearn.ensemble import RandomForestClassifier"
   ]
  },
  {
   "cell_type": "code",
   "execution_count": 15,
   "id": "48ad78c1",
   "metadata": {
    "execution": {
     "iopub.execute_input": "2022-02-20T12:27:09.745632Z",
     "iopub.status.busy": "2022-02-20T12:27:09.744886Z",
     "iopub.status.idle": "2022-02-20T12:27:09.944051Z",
     "shell.execute_reply": "2022-02-20T12:27:09.943485Z",
     "shell.execute_reply.started": "2022-02-20T12:25:55.156531Z"
    },
    "papermill": {
     "duration": 0.231776,
     "end_time": "2022-02-20T12:27:09.944187",
     "exception": false,
     "start_time": "2022-02-20T12:27:09.712411",
     "status": "completed"
    },
    "tags": []
   },
   "outputs": [],
   "source": [
    "rf_model = RandomForestClassifier().fit(X_train, y_train)"
   ]
  },
  {
   "cell_type": "code",
   "execution_count": 16,
   "id": "2a7d599a",
   "metadata": {
    "execution": {
     "iopub.execute_input": "2022-02-20T12:27:10.003482Z",
     "iopub.status.busy": "2022-02-20T12:27:10.002908Z",
     "iopub.status.idle": "2022-02-20T12:27:10.017529Z",
     "shell.execute_reply": "2022-02-20T12:27:10.018067Z",
     "shell.execute_reply.started": "2022-02-20T12:25:55.307612Z"
    },
    "papermill": {
     "duration": 0.045885,
     "end_time": "2022-02-20T12:27:10.018228",
     "exception": false,
     "start_time": "2022-02-20T12:27:09.972343",
     "status": "completed"
    },
    "tags": []
   },
   "outputs": [],
   "source": [
    "y_pred = rf_model.predict(X_test)"
   ]
  },
  {
   "cell_type": "code",
   "execution_count": 17,
   "id": "4ee2f14d",
   "metadata": {
    "execution": {
     "iopub.execute_input": "2022-02-20T12:27:10.078722Z",
     "iopub.status.busy": "2022-02-20T12:27:10.078120Z",
     "iopub.status.idle": "2022-02-20T12:27:10.081077Z",
     "shell.execute_reply": "2022-02-20T12:27:10.081650Z",
     "shell.execute_reply.started": "2022-02-20T12:25:55.324572Z"
    },
    "papermill": {
     "duration": 0.035534,
     "end_time": "2022-02-20T12:27:10.081824",
     "exception": false,
     "start_time": "2022-02-20T12:27:10.046290",
     "status": "completed"
    },
    "tags": []
   },
   "outputs": [],
   "source": [
    "from sklearn.metrics import accuracy_score, confusion_matrix, classification_report"
   ]
  },
  {
   "cell_type": "code",
   "execution_count": 18,
   "id": "d3a89f7d",
   "metadata": {
    "execution": {
     "iopub.execute_input": "2022-02-20T12:27:10.142984Z",
     "iopub.status.busy": "2022-02-20T12:27:10.142342Z",
     "iopub.status.idle": "2022-02-20T12:27:10.145945Z",
     "shell.execute_reply": "2022-02-20T12:27:10.146593Z",
     "shell.execute_reply.started": "2022-02-20T12:25:55.329894Z"
    },
    "papermill": {
     "duration": 0.036711,
     "end_time": "2022-02-20T12:27:10.146744",
     "exception": false,
     "start_time": "2022-02-20T12:27:10.110033",
     "status": "completed"
    },
    "tags": []
   },
   "outputs": [
    {
     "data": {
      "text/plain": [
       "0.6923076923076923"
      ]
     },
     "execution_count": 18,
     "metadata": {},
     "output_type": "execute_result"
    }
   ],
   "source": [
    "accuracy_score(y_test, y_pred)"
   ]
  },
  {
   "cell_type": "code",
   "execution_count": 19,
   "id": "61259e98",
   "metadata": {
    "execution": {
     "iopub.execute_input": "2022-02-20T12:27:10.207091Z",
     "iopub.status.busy": "2022-02-20T12:27:10.206482Z",
     "iopub.status.idle": "2022-02-20T12:27:10.588301Z",
     "shell.execute_reply": "2022-02-20T12:27:10.587688Z",
     "shell.execute_reply.started": "2022-02-20T12:25:55.340538Z"
    },
    "papermill": {
     "duration": 0.413043,
     "end_time": "2022-02-20T12:27:10.588433",
     "exception": false,
     "start_time": "2022-02-20T12:27:10.175390",
     "status": "completed"
    },
    "tags": []
   },
   "outputs": [
    {
     "data": {
      "image/png": "[encoded data removed]",
      "text/plain": [
       "<Figure size 432x288 with 2 Axes>"
      ]
     },
     "metadata": {
      "needs_background": "light"
     },
     "output_type": "display_data"
    }
   ],
   "source": [
    "cm = confusion_matrix(y_test, y_pred)\n",
    "sns.heatmap(cm, annot=True);"
   ]
  },
  {
   "cell_type": "code",
   "execution_count": 20,
   "id": "26459337",
   "metadata": {
    "execution": {
     "iopub.execute_input": "2022-02-20T12:27:10.652754Z",
     "iopub.status.busy": "2022-02-20T12:27:10.652084Z",
     "iopub.status.idle": "2022-02-20T12:27:10.660074Z",
     "shell.execute_reply": "2022-02-20T12:27:10.659449Z",
     "shell.execute_reply.started": "2022-02-20T12:25:55.906399Z"
    },
    "papermill": {
     "duration": 0.04225,
     "end_time": "2022-02-20T12:27:10.660204",
     "exception": false,
     "start_time": "2022-02-20T12:27:10.617954",
     "status": "completed"
    },
    "tags": []
   },
   "outputs": [
    {
     "name": "stdout",
     "output_type": "stream",
     "text": [
      "              precision    recall  f1-score   support\n",
      "\n",
      "           1       0.55      0.76      0.64        21\n",
      "           2       0.71      0.65      0.68        26\n",
      "           3       1.00      0.14      0.25         7\n",
      "           5       1.00      1.00      1.00         2\n",
      "           6       1.00      1.00      1.00         2\n",
      "           7       1.00      1.00      1.00         7\n",
      "\n",
      "    accuracy                           0.69        65\n",
      "   macro avg       0.88      0.76      0.76        65\n",
      "weighted avg       0.74      0.69      0.67        65\n",
      "\n"
     ]
    }
   ],
   "source": [
    "print(classification_report(y_test, y_pred))"
   ]
  },
  {
   "cell_type": "code",
   "execution_count": 21,
   "id": "039d9b1e",
   "metadata": {
    "execution": {
     "iopub.execute_input": "2022-02-20T12:27:10.736235Z",
     "iopub.status.busy": "2022-02-20T12:27:10.735533Z",
     "iopub.status.idle": "2022-02-20T12:27:11.077899Z",
     "shell.execute_reply": "2022-02-20T12:27:11.077374Z",
     "shell.execute_reply.started": "2022-02-20T12:25:55.919619Z"
    },
    "papermill": {
     "duration": 0.387811,
     "end_time": "2022-02-20T12:27:11.078055",
     "exception": false,
     "start_time": "2022-02-20T12:27:10.690244",
     "status": "completed"
    },
    "tags": []
   },
   "outputs": [
    {
     "data": {
      "image/png": "[encoded data removed]",
      "text/plain": [
       "<Figure size 720x432 with 1 Axes>"
      ]
     },
     "metadata": {
      "needs_background": "light"
     },
     "output_type": "display_data"
    }
   ],
   "source": [
    "import matplotlib.pyplot as plt\n",
    "plt.figure(figsize=(10, 6))\n",
    "sns.barplot(y=X_train.columns, x=rf_model.feature_importances_, )\n",
    "plt.title(\"Feature Importance\")\n",
    "plt.show()"
   ]
  },
  {
   "cell_type": "code",
   "execution_count": null,
   "id": "c48864d1",
   "metadata": {
    "papermill": {
     "duration": 0.030444,
     "end_time": "2022-02-20T12:27:11.139560",
     "exception": false,
     "start_time": "2022-02-20T12:27:11.109116",
     "status": "completed"
    },
    "tags": []
   },
   "outputs": [],
   "source": []
  }
 ],
 "metadata": {
  "kernelspec": {
   "display_name": "Python 3",
   "language": "python",
   "name": "python3"
  },
  "language_info": {
   "codemirror_mode": {
    "name": "ipython",
    "version": 3
   },
   "file_extension": ".py",
   "mimetype": "text/x-python",
   "name": "python",
   "nbconvert_exporter": "python",
   "pygments_lexer": "ipython3",
   "version": "3.7.12"
  },
  "papermill": {
   "default_parameters": {},
   "duration": 14.98597,
   "end_time": "2022-02-20T12:27:11.879966",
   "environment_variables": {},
   "exception": null,
   "input_path": "__notebook__.ipynb",
   "output_path": "__notebook__.ipynb",
   "parameters": {},
   "start_time": "2022-02-20T12:26:56.893996",
   "version": "2.3.3"
  }
 },
 "nbformat": 4,
 "nbformat_minor": 5
}
