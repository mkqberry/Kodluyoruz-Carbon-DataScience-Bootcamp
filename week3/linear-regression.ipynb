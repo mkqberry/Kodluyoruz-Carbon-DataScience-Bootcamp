{
 "cells": [
  {
   "cell_type": "code",
   "execution_count": 1,
   "id": "229b5897",
   "metadata": {
    "execution": {
     "iopub.execute_input": "2022-02-20T12:27:15.937952Z",
     "iopub.status.busy": "2022-02-20T12:27:15.937246Z",
     "iopub.status.idle": "2022-02-20T12:27:15.956324Z",
     "shell.execute_reply": "2022-02-20T12:27:15.957273Z",
     "shell.execute_reply.started": "2022-02-20T12:26:40.700502Z"
    },
    "papermill": {
     "duration": 0.063117,
     "end_time": "2022-02-20T12:27:15.957643",
     "exception": false,
     "start_time": "2022-02-20T12:27:15.894526",
     "status": "completed"
    },
    "tags": []
   },
   "outputs": [
    {
     "name": "stdout",
     "output_type": "stream",
     "text": [
      "/kaggle/input/insurance/insurance.csv\n"
     ]
    }
   ],
   "source": [
    "# This Python 3 environment comes with many helpful analytics libraries installed\n",
    "# It is defined by the kaggle/python Docker image: https://github.com/kaggle/docker-python\n",
    "# For example, here's several helpful packages to load\n",
    "\n",
    "import numpy as np # linear algebra\n",
    "import pandas as pd # data processing, CSV file I/O (e.g. pd.read_csv)\n",
    "\n",
    "# Input data files are available in the read-only \"../input/\" directory\n",
    "# For example, running this (by clicking run or pressing Shift+Enter) will list all files under the input directory\n",
    "\n",
    "import os\n",
    "for dirname, _, filenames in os.walk('/kaggle/input'):\n",
    "    for filename in filenames:\n",
    "        print(os.path.join(dirname, filename))\n",
    "\n",
    "        \n",
    "# You can write up to 20GB to the current directory (/kaggle/working/) that gets preserved as output when you create a version using \"Save & Run All\" \n",
    "# You can also write temporary files to /kaggle/temp/, but they won't be saved outside of the current session"
   ]
  },
  {
   "cell_type": "code",
   "execution_count": 2,
   "id": "a02e1a22",
   "metadata": {
    "execution": {
     "iopub.execute_input": "2022-02-20T12:27:16.030423Z",
     "iopub.status.busy": "2022-02-20T12:27:16.029719Z",
     "iopub.status.idle": "2022-02-20T12:27:17.402747Z",
     "shell.execute_reply": "2022-02-20T12:27:17.402171Z",
     "shell.execute_reply.started": "2022-02-20T12:26:40.733599Z"
    },
    "papermill": {
     "duration": 1.410707,
     "end_time": "2022-02-20T12:27:17.402933",
     "exception": false,
     "start_time": "2022-02-20T12:27:15.992226",
     "status": "completed"
    },
    "tags": []
   },
   "outputs": [],
   "source": [
    "import matplotlib.pyplot as plt\n",
    "import seaborn as sns"
   ]
  },
  {
   "cell_type": "code",
   "execution_count": 3,
   "id": "eb0f58f1",
   "metadata": {
    "execution": {
     "iopub.execute_input": "2022-02-20T12:27:17.475354Z",
     "iopub.status.busy": "2022-02-20T12:27:17.474660Z",
     "iopub.status.idle": "2022-02-20T12:27:17.493988Z",
     "shell.execute_reply": "2022-02-20T12:27:17.494565Z",
     "shell.execute_reply.started": "2022-02-20T12:26:40.901625Z"
    },
    "papermill": {
     "duration": 0.058233,
     "end_time": "2022-02-20T12:27:17.494732",
     "exception": false,
     "start_time": "2022-02-20T12:27:17.436499",
     "status": "completed"
    },
    "tags": []
   },
   "outputs": [],
   "source": [
    "df = pd.read_csv('../input/insurance/insurance.csv')"
   ]
  },
  {
   "cell_type": "code",
   "execution_count": 4,
   "id": "194dfa51",
   "metadata": {
    "execution": {
     "iopub.execute_input": "2022-02-20T12:27:17.565371Z",
     "iopub.status.busy": "2022-02-20T12:27:17.564752Z",
     "iopub.status.idle": "2022-02-20T12:27:17.571727Z",
     "shell.execute_reply": "2022-02-20T12:27:17.572251Z",
     "shell.execute_reply.started": "2022-02-20T12:26:40.914945Z"
    },
    "papermill": {
     "duration": 0.043514,
     "end_time": "2022-02-20T12:27:17.572409",
     "exception": false,
     "start_time": "2022-02-20T12:27:17.528895",
     "status": "completed"
    },
    "tags": []
   },
   "outputs": [
    {
     "data": {
      "text/plain": [
       "(1338, 7)"
      ]
     },
     "execution_count": 4,
     "metadata": {},
     "output_type": "execute_result"
    }
   ],
   "source": [
    "df.shape"
   ]
  },
  {
   "cell_type": "code",
   "execution_count": 5,
   "id": "8d8ad74b",
   "metadata": {
    "execution": {
     "iopub.execute_input": "2022-02-20T12:27:17.642530Z",
     "iopub.status.busy": "2022-02-20T12:27:17.641864Z",
     "iopub.status.idle": "2022-02-20T12:27:17.672131Z",
     "shell.execute_reply": "2022-02-20T12:27:17.671469Z",
     "shell.execute_reply.started": "2022-02-20T12:26:40.924860Z"
    },
    "papermill": {
     "duration": 0.066307,
     "end_time": "2022-02-20T12:27:17.672281",
     "exception": false,
     "start_time": "2022-02-20T12:27:17.605974",
     "status": "completed"
    },
    "tags": []
   },
   "outputs": [
    {
     "name": "stdout",
     "output_type": "stream",
     "text": [
      "<class 'pandas.core.frame.DataFrame'>\n",
      "RangeIndex: 1338 entries, 0 to 1337\n",
      "Data columns (total 7 columns):\n",
      " #   Column    Non-Null Count  Dtype  \n",
      "---  ------    --------------  -----  \n",
      " 0   age       1338 non-null   int64  \n",
      " 1   sex       1338 non-null   object \n",
      " 2   bmi       1338 non-null   float64\n",
      " 3   children  1338 non-null   int64  \n",
      " 4   smoker    1338 non-null   object \n",
      " 5   region    1338 non-null   object \n",
      " 6   charges   1338 non-null   float64\n",
      "dtypes: float64(2), int64(2), object(3)\n",
      "memory usage: 73.3+ KB\n"
     ]
    }
   ],
   "source": [
    "df.info()"
   ]
  },
  {
   "cell_type": "code",
   "execution_count": 6,
   "id": "0dd7d621",
   "metadata": {
    "execution": {
     "iopub.execute_input": "2022-02-20T12:27:17.751721Z",
     "iopub.status.busy": "2022-02-20T12:27:17.751057Z",
     "iopub.status.idle": "2022-02-20T12:27:17.775235Z",
     "shell.execute_reply": "2022-02-20T12:27:17.774733Z",
     "shell.execute_reply.started": "2022-02-20T12:26:40.946546Z"
    },
    "papermill": {
     "duration": 0.068093,
     "end_time": "2022-02-20T12:27:17.775345",
     "exception": false,
     "start_time": "2022-02-20T12:27:17.707252",
     "status": "completed"
    },
    "tags": []
   },
   "outputs": [
    {
     "data": {
      "text/html": [
       "<div>\n",
       "<style scoped>\n",
       "    .dataframe tbody tr th:only-of-type {\n",
       "        vertical-align: middle;\n",
       "    }\n",
       "\n",
       "    .dataframe tbody tr th {\n",
       "        vertical-align: top;\n",
       "    }\n",
       "\n",
       "    .dataframe thead th {\n",
       "        text-align: right;\n",
       "    }\n",
       "</style>\n",
       "<table border=\"1\" class=\"dataframe\">\n",
       "  <thead>\n",
       "    <tr style=\"text-align: right;\">\n",
       "      <th></th>\n",
       "      <th>age</th>\n",
       "      <th>bmi</th>\n",
       "      <th>children</th>\n",
       "      <th>charges</th>\n",
       "    </tr>\n",
       "  </thead>\n",
       "  <tbody>\n",
       "    <tr>\n",
       "      <th>count</th>\n",
       "      <td>1338.000000</td>\n",
       "      <td>1338.000000</td>\n",
       "      <td>1338.000000</td>\n",
       "      <td>1338.000000</td>\n",
       "    </tr>\n",
       "    <tr>\n",
       "      <th>mean</th>\n",
       "      <td>39.207025</td>\n",
       "      <td>30.663397</td>\n",
       "      <td>1.094918</td>\n",
       "      <td>13270.422265</td>\n",
       "    </tr>\n",
       "    <tr>\n",
       "      <th>std</th>\n",
       "      <td>14.049960</td>\n",
       "      <td>6.098187</td>\n",
       "      <td>1.205493</td>\n",
       "      <td>12110.011237</td>\n",
       "    </tr>\n",
       "    <tr>\n",
       "      <th>min</th>\n",
       "      <td>18.000000</td>\n",
       "      <td>15.960000</td>\n",
       "      <td>0.000000</td>\n",
       "      <td>1121.873900</td>\n",
       "    </tr>\n",
       "    <tr>\n",
       "      <th>25%</th>\n",
       "      <td>27.000000</td>\n",
       "      <td>26.296250</td>\n",
       "      <td>0.000000</td>\n",
       "      <td>4740.287150</td>\n",
       "    </tr>\n",
       "    <tr>\n",
       "      <th>50%</th>\n",
       "      <td>39.000000</td>\n",
       "      <td>30.400000</td>\n",
       "      <td>1.000000</td>\n",
       "      <td>9382.033000</td>\n",
       "    </tr>\n",
       "    <tr>\n",
       "      <th>75%</th>\n",
       "      <td>51.000000</td>\n",
       "      <td>34.693750</td>\n",
       "      <td>2.000000</td>\n",
       "      <td>16639.912515</td>\n",
       "    </tr>\n",
       "    <tr>\n",
       "      <th>max</th>\n",
       "      <td>64.000000</td>\n",
       "      <td>53.130000</td>\n",
       "      <td>5.000000</td>\n",
       "      <td>63770.428010</td>\n",
       "    </tr>\n",
       "  </tbody>\n",
       "</table>\n",
       "</div>"
      ],
      "text/plain": [
       "               age          bmi     children       charges\n",
       "count  1338.000000  1338.000000  1338.000000   1338.000000\n",
       "mean     39.207025    30.663397     1.094918  13270.422265\n",
       "std      14.049960     6.098187     1.205493  12110.011237\n",
       "min      18.000000    15.960000     0.000000   1121.873900\n",
       "25%      27.000000    26.296250     0.000000   4740.287150\n",
       "50%      39.000000    30.400000     1.000000   9382.033000\n",
       "75%      51.000000    34.693750     2.000000  16639.912515\n",
       "max      64.000000    53.130000     5.000000  63770.428010"
      ]
     },
     "execution_count": 6,
     "metadata": {},
     "output_type": "execute_result"
    }
   ],
   "source": [
    "df.describe()"
   ]
  },
  {
   "cell_type": "code",
   "execution_count": 7,
   "id": "89d58860",
   "metadata": {
    "execution": {
     "iopub.execute_input": "2022-02-20T12:27:17.830131Z",
     "iopub.status.busy": "2022-02-20T12:27:17.827523Z",
     "iopub.status.idle": "2022-02-20T12:27:17.833884Z",
     "shell.execute_reply": "2022-02-20T12:27:17.833389Z",
     "shell.execute_reply.started": "2022-02-20T12:26:40.975448Z"
    },
    "papermill": {
     "duration": 0.036123,
     "end_time": "2022-02-20T12:27:17.834006",
     "exception": false,
     "start_time": "2022-02-20T12:27:17.797883",
     "status": "completed"
    },
    "tags": []
   },
   "outputs": [
    {
     "data": {
      "text/plain": [
       "age         0\n",
       "sex         0\n",
       "bmi         0\n",
       "children    0\n",
       "smoker      0\n",
       "region      0\n",
       "charges     0\n",
       "dtype: int64"
      ]
     },
     "execution_count": 7,
     "metadata": {},
     "output_type": "execute_result"
    }
   ],
   "source": [
    "df.isnull().sum()"
   ]
  },
  {
   "cell_type": "code",
   "execution_count": 8,
   "id": "80a65481",
   "metadata": {
    "execution": {
     "iopub.execute_input": "2022-02-20T12:27:17.914852Z",
     "iopub.status.busy": "2022-02-20T12:27:17.914232Z",
     "iopub.status.idle": "2022-02-20T12:27:17.918398Z",
     "shell.execute_reply": "2022-02-20T12:27:17.918742Z",
     "shell.execute_reply.started": "2022-02-20T12:26:40.988057Z"
    },
    "papermill": {
     "duration": 0.051,
     "end_time": "2022-02-20T12:27:17.918874",
     "exception": false,
     "start_time": "2022-02-20T12:27:17.867874",
     "status": "completed"
    },
    "tags": []
   },
   "outputs": [
    {
     "data": {
      "text/html": [
       "<div>\n",
       "<style scoped>\n",
       "    .dataframe tbody tr th:only-of-type {\n",
       "        vertical-align: middle;\n",
       "    }\n",
       "\n",
       "    .dataframe tbody tr th {\n",
       "        vertical-align: top;\n",
       "    }\n",
       "\n",
       "    .dataframe thead th {\n",
       "        text-align: right;\n",
       "    }\n",
       "</style>\n",
       "<table border=\"1\" class=\"dataframe\">\n",
       "  <thead>\n",
       "    <tr style=\"text-align: right;\">\n",
       "      <th></th>\n",
       "      <th>age</th>\n",
       "      <th>sex</th>\n",
       "      <th>bmi</th>\n",
       "      <th>children</th>\n",
       "      <th>smoker</th>\n",
       "      <th>region</th>\n",
       "      <th>charges</th>\n",
       "    </tr>\n",
       "  </thead>\n",
       "  <tbody>\n",
       "    <tr>\n",
       "      <th>0</th>\n",
       "      <td>19</td>\n",
       "      <td>female</td>\n",
       "      <td>27.900</td>\n",
       "      <td>0</td>\n",
       "      <td>yes</td>\n",
       "      <td>southwest</td>\n",
       "      <td>16884.92400</td>\n",
       "    </tr>\n",
       "    <tr>\n",
       "      <th>1</th>\n",
       "      <td>18</td>\n",
       "      <td>male</td>\n",
       "      <td>33.770</td>\n",
       "      <td>1</td>\n",
       "      <td>no</td>\n",
       "      <td>southeast</td>\n",
       "      <td>1725.55230</td>\n",
       "    </tr>\n",
       "    <tr>\n",
       "      <th>2</th>\n",
       "      <td>28</td>\n",
       "      <td>male</td>\n",
       "      <td>33.000</td>\n",
       "      <td>3</td>\n",
       "      <td>no</td>\n",
       "      <td>southeast</td>\n",
       "      <td>4449.46200</td>\n",
       "    </tr>\n",
       "    <tr>\n",
       "      <th>3</th>\n",
       "      <td>33</td>\n",
       "      <td>male</td>\n",
       "      <td>22.705</td>\n",
       "      <td>0</td>\n",
       "      <td>no</td>\n",
       "      <td>northwest</td>\n",
       "      <td>21984.47061</td>\n",
       "    </tr>\n",
       "    <tr>\n",
       "      <th>4</th>\n",
       "      <td>32</td>\n",
       "      <td>male</td>\n",
       "      <td>28.880</td>\n",
       "      <td>0</td>\n",
       "      <td>no</td>\n",
       "      <td>northwest</td>\n",
       "      <td>3866.85520</td>\n",
       "    </tr>\n",
       "  </tbody>\n",
       "</table>\n",
       "</div>"
      ],
      "text/plain": [
       "   age     sex     bmi  children smoker     region      charges\n",
       "0   19  female  27.900         0    yes  southwest  16884.92400\n",
       "1   18    male  33.770         1     no  southeast   1725.55230\n",
       "2   28    male  33.000         3     no  southeast   4449.46200\n",
       "3   33    male  22.705         0     no  northwest  21984.47061\n",
       "4   32    male  28.880         0     no  northwest   3866.85520"
      ]
     },
     "execution_count": 8,
     "metadata": {},
     "output_type": "execute_result"
    }
   ],
   "source": [
    "df.head()"
   ]
  },
  {
   "cell_type": "code",
   "execution_count": 9,
   "id": "f0cfb789",
   "metadata": {
    "execution": {
     "iopub.execute_input": "2022-02-20T12:27:17.972665Z",
     "iopub.status.busy": "2022-02-20T12:27:17.972184Z",
     "iopub.status.idle": "2022-02-20T12:27:18.133527Z",
     "shell.execute_reply": "2022-02-20T12:27:18.132991Z",
     "shell.execute_reply.started": "2022-02-20T12:26:41.006824Z"
    },
    "papermill": {
     "duration": 0.190235,
     "end_time": "2022-02-20T12:27:18.133650",
     "exception": false,
     "start_time": "2022-02-20T12:27:17.943415",
     "status": "completed"
    },
    "tags": []
   },
   "outputs": [],
   "source": [
    "from sklearn.preprocessing import LabelEncoder"
   ]
  },
  {
   "cell_type": "code",
   "execution_count": 10,
   "id": "97a01330",
   "metadata": {
    "execution": {
     "iopub.execute_input": "2022-02-20T12:27:18.190608Z",
     "iopub.status.busy": "2022-02-20T12:27:18.190035Z",
     "iopub.status.idle": "2022-02-20T12:27:18.193736Z",
     "shell.execute_reply": "2022-02-20T12:27:18.193252Z",
     "shell.execute_reply.started": "2022-02-20T12:26:41.020581Z"
    },
    "papermill": {
     "duration": 0.036369,
     "end_time": "2022-02-20T12:27:18.193850",
     "exception": false,
     "start_time": "2022-02-20T12:27:18.157481",
     "status": "completed"
    },
    "tags": []
   },
   "outputs": [],
   "source": [
    "le = LabelEncoder()\n",
    "df['sex'] = le.fit_transform(df['sex'])\n",
    "df['smoker'] = le.fit_transform(df['smoker'])"
   ]
  },
  {
   "cell_type": "code",
   "execution_count": 11,
   "id": "407399f7",
   "metadata": {
    "execution": {
     "iopub.execute_input": "2022-02-20T12:27:18.254780Z",
     "iopub.status.busy": "2022-02-20T12:27:18.254232Z",
     "iopub.status.idle": "2022-02-20T12:27:18.258182Z",
     "shell.execute_reply": "2022-02-20T12:27:18.257705Z",
     "shell.execute_reply.started": "2022-02-20T12:26:41.036990Z"
    },
    "papermill": {
     "duration": 0.040274,
     "end_time": "2022-02-20T12:27:18.258286",
     "exception": false,
     "start_time": "2022-02-20T12:27:18.218012",
     "status": "completed"
    },
    "tags": []
   },
   "outputs": [
    {
     "data": {
      "text/html": [
       "<div>\n",
       "<style scoped>\n",
       "    .dataframe tbody tr th:only-of-type {\n",
       "        vertical-align: middle;\n",
       "    }\n",
       "\n",
       "    .dataframe tbody tr th {\n",
       "        vertical-align: top;\n",
       "    }\n",
       "\n",
       "    .dataframe thead th {\n",
       "        text-align: right;\n",
       "    }\n",
       "</style>\n",
       "<table border=\"1\" class=\"dataframe\">\n",
       "  <thead>\n",
       "    <tr style=\"text-align: right;\">\n",
       "      <th></th>\n",
       "      <th>age</th>\n",
       "      <th>sex</th>\n",
       "      <th>bmi</th>\n",
       "      <th>children</th>\n",
       "      <th>smoker</th>\n",
       "      <th>region</th>\n",
       "      <th>charges</th>\n",
       "    </tr>\n",
       "  </thead>\n",
       "  <tbody>\n",
       "    <tr>\n",
       "      <th>0</th>\n",
       "      <td>19</td>\n",
       "      <td>0</td>\n",
       "      <td>27.900</td>\n",
       "      <td>0</td>\n",
       "      <td>1</td>\n",
       "      <td>southwest</td>\n",
       "      <td>16884.92400</td>\n",
       "    </tr>\n",
       "    <tr>\n",
       "      <th>1</th>\n",
       "      <td>18</td>\n",
       "      <td>1</td>\n",
       "      <td>33.770</td>\n",
       "      <td>1</td>\n",
       "      <td>0</td>\n",
       "      <td>southeast</td>\n",
       "      <td>1725.55230</td>\n",
       "    </tr>\n",
       "    <tr>\n",
       "      <th>2</th>\n",
       "      <td>28</td>\n",
       "      <td>1</td>\n",
       "      <td>33.000</td>\n",
       "      <td>3</td>\n",
       "      <td>0</td>\n",
       "      <td>southeast</td>\n",
       "      <td>4449.46200</td>\n",
       "    </tr>\n",
       "    <tr>\n",
       "      <th>3</th>\n",
       "      <td>33</td>\n",
       "      <td>1</td>\n",
       "      <td>22.705</td>\n",
       "      <td>0</td>\n",
       "      <td>0</td>\n",
       "      <td>northwest</td>\n",
       "      <td>21984.47061</td>\n",
       "    </tr>\n",
       "    <tr>\n",
       "      <th>4</th>\n",
       "      <td>32</td>\n",
       "      <td>1</td>\n",
       "      <td>28.880</td>\n",
       "      <td>0</td>\n",
       "      <td>0</td>\n",
       "      <td>northwest</td>\n",
       "      <td>3866.85520</td>\n",
       "    </tr>\n",
       "  </tbody>\n",
       "</table>\n",
       "</div>"
      ],
      "text/plain": [
       "   age  sex     bmi  children  smoker     region      charges\n",
       "0   19    0  27.900         0       1  southwest  16884.92400\n",
       "1   18    1  33.770         1       0  southeast   1725.55230\n",
       "2   28    1  33.000         3       0  southeast   4449.46200\n",
       "3   33    1  22.705         0       0  northwest  21984.47061\n",
       "4   32    1  28.880         0       0  northwest   3866.85520"
      ]
     },
     "execution_count": 11,
     "metadata": {},
     "output_type": "execute_result"
    }
   ],
   "source": [
    "df.head()"
   ]
  },
  {
   "cell_type": "code",
   "execution_count": 12,
   "id": "97b19dd8",
   "metadata": {
    "execution": {
     "iopub.execute_input": "2022-02-20T12:27:18.312744Z",
     "iopub.status.busy": "2022-02-20T12:27:18.312168Z",
     "iopub.status.idle": "2022-02-20T12:27:18.314489Z",
     "shell.execute_reply": "2022-02-20T12:27:18.313998Z",
     "shell.execute_reply.started": "2022-02-20T12:26:41.060563Z"
    },
    "papermill": {
     "duration": 0.031403,
     "end_time": "2022-02-20T12:27:18.314598",
     "exception": false,
     "start_time": "2022-02-20T12:27:18.283195",
     "status": "completed"
    },
    "tags": []
   },
   "outputs": [],
   "source": [
    "dummies = pd.get_dummies(df['region'])"
   ]
  },
  {
   "cell_type": "code",
   "execution_count": 13,
   "id": "2d166716",
   "metadata": {
    "execution": {
     "iopub.execute_input": "2022-02-20T12:27:18.379296Z",
     "iopub.status.busy": "2022-02-20T12:27:18.378542Z",
     "iopub.status.idle": "2022-02-20T12:27:18.382346Z",
     "shell.execute_reply": "2022-02-20T12:27:18.381794Z",
     "shell.execute_reply.started": "2022-02-20T12:26:41.072066Z"
    },
    "papermill": {
     "duration": 0.041559,
     "end_time": "2022-02-20T12:27:18.382491",
     "exception": false,
     "start_time": "2022-02-20T12:27:18.340932",
     "status": "completed"
    },
    "tags": []
   },
   "outputs": [
    {
     "data": {
      "text/html": [
       "<div>\n",
       "<style scoped>\n",
       "    .dataframe tbody tr th:only-of-type {\n",
       "        vertical-align: middle;\n",
       "    }\n",
       "\n",
       "    .dataframe tbody tr th {\n",
       "        vertical-align: top;\n",
       "    }\n",
       "\n",
       "    .dataframe thead th {\n",
       "        text-align: right;\n",
       "    }\n",
       "</style>\n",
       "<table border=\"1\" class=\"dataframe\">\n",
       "  <thead>\n",
       "    <tr style=\"text-align: right;\">\n",
       "      <th></th>\n",
       "      <th>northeast</th>\n",
       "      <th>northwest</th>\n",
       "      <th>southeast</th>\n",
       "      <th>southwest</th>\n",
       "    </tr>\n",
       "  </thead>\n",
       "  <tbody>\n",
       "    <tr>\n",
       "      <th>0</th>\n",
       "      <td>0</td>\n",
       "      <td>0</td>\n",
       "      <td>0</td>\n",
       "      <td>1</td>\n",
       "    </tr>\n",
       "    <tr>\n",
       "      <th>1</th>\n",
       "      <td>0</td>\n",
       "      <td>0</td>\n",
       "      <td>1</td>\n",
       "      <td>0</td>\n",
       "    </tr>\n",
       "    <tr>\n",
       "      <th>2</th>\n",
       "      <td>0</td>\n",
       "      <td>0</td>\n",
       "      <td>1</td>\n",
       "      <td>0</td>\n",
       "    </tr>\n",
       "    <tr>\n",
       "      <th>3</th>\n",
       "      <td>0</td>\n",
       "      <td>1</td>\n",
       "      <td>0</td>\n",
       "      <td>0</td>\n",
       "    </tr>\n",
       "    <tr>\n",
       "      <th>4</th>\n",
       "      <td>0</td>\n",
       "      <td>1</td>\n",
       "      <td>0</td>\n",
       "      <td>0</td>\n",
       "    </tr>\n",
       "    <tr>\n",
       "      <th>...</th>\n",
       "      <td>...</td>\n",
       "      <td>...</td>\n",
       "      <td>...</td>\n",
       "      <td>...</td>\n",
       "    </tr>\n",
       "    <tr>\n",
       "      <th>1333</th>\n",
       "      <td>0</td>\n",
       "      <td>1</td>\n",
       "      <td>0</td>\n",
       "      <td>0</td>\n",
       "    </tr>\n",
       "    <tr>\n",
       "      <th>1334</th>\n",
       "      <td>1</td>\n",
       "      <td>0</td>\n",
       "      <td>0</td>\n",
       "      <td>0</td>\n",
       "    </tr>\n",
       "    <tr>\n",
       "      <th>1335</th>\n",
       "      <td>0</td>\n",
       "      <td>0</td>\n",
       "      <td>1</td>\n",
       "      <td>0</td>\n",
       "    </tr>\n",
       "    <tr>\n",
       "      <th>1336</th>\n",
       "      <td>0</td>\n",
       "      <td>0</td>\n",
       "      <td>0</td>\n",
       "      <td>1</td>\n",
       "    </tr>\n",
       "    <tr>\n",
       "      <th>1337</th>\n",
       "      <td>0</td>\n",
       "      <td>1</td>\n",
       "      <td>0</td>\n",
       "      <td>0</td>\n",
       "    </tr>\n",
       "  </tbody>\n",
       "</table>\n",
       "<p>1338 rows × 4 columns</p>\n",
       "</div>"
      ],
      "text/plain": [
       "      northeast  northwest  southeast  southwest\n",
       "0             0          0          0          1\n",
       "1             0          0          1          0\n",
       "2             0          0          1          0\n",
       "3             0          1          0          0\n",
       "4             0          1          0          0\n",
       "...         ...        ...        ...        ...\n",
       "1333          0          1          0          0\n",
       "1334          1          0          0          0\n",
       "1335          0          0          1          0\n",
       "1336          0          0          0          1\n",
       "1337          0          1          0          0\n",
       "\n",
       "[1338 rows x 4 columns]"
      ]
     },
     "execution_count": 13,
     "metadata": {},
     "output_type": "execute_result"
    }
   ],
   "source": [
    "dummies"
   ]
  },
  {
   "cell_type": "code",
   "execution_count": 14,
   "id": "46315e15",
   "metadata": {
    "execution": {
     "iopub.execute_input": "2022-02-20T12:27:18.462827Z",
     "iopub.status.busy": "2022-02-20T12:27:18.461963Z",
     "iopub.status.idle": "2022-02-20T12:27:18.466890Z",
     "shell.execute_reply": "2022-02-20T12:27:18.467443Z",
     "shell.execute_reply.started": "2022-02-20T12:26:41.092530Z"
    },
    "papermill": {
     "duration": 0.047042,
     "end_time": "2022-02-20T12:27:18.467611",
     "exception": false,
     "start_time": "2022-02-20T12:27:18.420569",
     "status": "completed"
    },
    "tags": []
   },
   "outputs": [],
   "source": [
    "df.drop(['region'], axis=1, inplace=True)"
   ]
  },
  {
   "cell_type": "code",
   "execution_count": 15,
   "id": "01156c2c",
   "metadata": {
    "execution": {
     "iopub.execute_input": "2022-02-20T12:27:18.545646Z",
     "iopub.status.busy": "2022-02-20T12:27:18.544992Z",
     "iopub.status.idle": "2022-02-20T12:27:18.550521Z",
     "shell.execute_reply": "2022-02-20T12:27:18.550941Z",
     "shell.execute_reply.started": "2022-02-20T12:26:41.101278Z"
    },
    "papermill": {
     "duration": 0.045843,
     "end_time": "2022-02-20T12:27:18.551137",
     "exception": false,
     "start_time": "2022-02-20T12:27:18.505294",
     "status": "completed"
    },
    "tags": []
   },
   "outputs": [],
   "source": [
    "df = pd.concat([df, dummies], axis=1)"
   ]
  },
  {
   "cell_type": "code",
   "execution_count": 16,
   "id": "0b3a011e",
   "metadata": {
    "execution": {
     "iopub.execute_input": "2022-02-20T12:27:18.603306Z",
     "iopub.status.busy": "2022-02-20T12:27:18.602641Z",
     "iopub.status.idle": "2022-02-20T12:27:18.616546Z",
     "shell.execute_reply": "2022-02-20T12:27:18.616175Z",
     "shell.execute_reply.started": "2022-02-20T12:26:41.115762Z"
    },
    "papermill": {
     "duration": 0.040798,
     "end_time": "2022-02-20T12:27:18.616665",
     "exception": false,
     "start_time": "2022-02-20T12:27:18.575867",
     "status": "completed"
    },
    "tags": []
   },
   "outputs": [
    {
     "data": {
      "text/html": [
       "<div>\n",
       "<style scoped>\n",
       "    .dataframe tbody tr th:only-of-type {\n",
       "        vertical-align: middle;\n",
       "    }\n",
       "\n",
       "    .dataframe tbody tr th {\n",
       "        vertical-align: top;\n",
       "    }\n",
       "\n",
       "    .dataframe thead th {\n",
       "        text-align: right;\n",
       "    }\n",
       "</style>\n",
       "<table border=\"1\" class=\"dataframe\">\n",
       "  <thead>\n",
       "    <tr style=\"text-align: right;\">\n",
       "      <th></th>\n",
       "      <th>age</th>\n",
       "      <th>sex</th>\n",
       "      <th>bmi</th>\n",
       "      <th>children</th>\n",
       "      <th>smoker</th>\n",
       "      <th>charges</th>\n",
       "      <th>northeast</th>\n",
       "      <th>northwest</th>\n",
       "      <th>southeast</th>\n",
       "      <th>southwest</th>\n",
       "    </tr>\n",
       "  </thead>\n",
       "  <tbody>\n",
       "    <tr>\n",
       "      <th>0</th>\n",
       "      <td>19</td>\n",
       "      <td>0</td>\n",
       "      <td>27.900</td>\n",
       "      <td>0</td>\n",
       "      <td>1</td>\n",
       "      <td>16884.92400</td>\n",
       "      <td>0</td>\n",
       "      <td>0</td>\n",
       "      <td>0</td>\n",
       "      <td>1</td>\n",
       "    </tr>\n",
       "    <tr>\n",
       "      <th>1</th>\n",
       "      <td>18</td>\n",
       "      <td>1</td>\n",
       "      <td>33.770</td>\n",
       "      <td>1</td>\n",
       "      <td>0</td>\n",
       "      <td>1725.55230</td>\n",
       "      <td>0</td>\n",
       "      <td>0</td>\n",
       "      <td>1</td>\n",
       "      <td>0</td>\n",
       "    </tr>\n",
       "    <tr>\n",
       "      <th>2</th>\n",
       "      <td>28</td>\n",
       "      <td>1</td>\n",
       "      <td>33.000</td>\n",
       "      <td>3</td>\n",
       "      <td>0</td>\n",
       "      <td>4449.46200</td>\n",
       "      <td>0</td>\n",
       "      <td>0</td>\n",
       "      <td>1</td>\n",
       "      <td>0</td>\n",
       "    </tr>\n",
       "    <tr>\n",
       "      <th>3</th>\n",
       "      <td>33</td>\n",
       "      <td>1</td>\n",
       "      <td>22.705</td>\n",
       "      <td>0</td>\n",
       "      <td>0</td>\n",
       "      <td>21984.47061</td>\n",
       "      <td>0</td>\n",
       "      <td>1</td>\n",
       "      <td>0</td>\n",
       "      <td>0</td>\n",
       "    </tr>\n",
       "    <tr>\n",
       "      <th>4</th>\n",
       "      <td>32</td>\n",
       "      <td>1</td>\n",
       "      <td>28.880</td>\n",
       "      <td>0</td>\n",
       "      <td>0</td>\n",
       "      <td>3866.85520</td>\n",
       "      <td>0</td>\n",
       "      <td>1</td>\n",
       "      <td>0</td>\n",
       "      <td>0</td>\n",
       "    </tr>\n",
       "  </tbody>\n",
       "</table>\n",
       "</div>"
      ],
      "text/plain": [
       "   age  sex     bmi  children  smoker      charges  northeast  northwest  \\\n",
       "0   19    0  27.900         0       1  16884.92400          0          0   \n",
       "1   18    1  33.770         1       0   1725.55230          0          0   \n",
       "2   28    1  33.000         3       0   4449.46200          0          0   \n",
       "3   33    1  22.705         0       0  21984.47061          0          1   \n",
       "4   32    1  28.880         0       0   3866.85520          0          1   \n",
       "\n",
       "   southeast  southwest  \n",
       "0          0          1  \n",
       "1          1          0  \n",
       "2          1          0  \n",
       "3          0          0  \n",
       "4          0          0  "
      ]
     },
     "execution_count": 16,
     "metadata": {},
     "output_type": "execute_result"
    }
   ],
   "source": [
    "df.head()"
   ]
  },
  {
   "cell_type": "code",
   "execution_count": 17,
   "id": "a10790be",
   "metadata": {
    "execution": {
     "iopub.execute_input": "2022-02-20T12:27:18.674382Z",
     "iopub.status.busy": "2022-02-20T12:27:18.673657Z",
     "iopub.status.idle": "2022-02-20T12:27:18.676386Z",
     "shell.execute_reply": "2022-02-20T12:27:18.676843Z",
     "shell.execute_reply.started": "2022-02-20T12:26:41.140299Z"
    },
    "papermill": {
     "duration": 0.034485,
     "end_time": "2022-02-20T12:27:18.676977",
     "exception": false,
     "start_time": "2022-02-20T12:27:18.642492",
     "status": "completed"
    },
    "tags": []
   },
   "outputs": [],
   "source": [
    "X = df.drop(['charges'], axis=1)\n",
    "y = df['charges']"
   ]
  },
  {
   "cell_type": "code",
   "execution_count": 18,
   "id": "3b2b6c45",
   "metadata": {
    "execution": {
     "iopub.execute_input": "2022-02-20T12:27:18.733973Z",
     "iopub.status.busy": "2022-02-20T12:27:18.733483Z",
     "iopub.status.idle": "2022-02-20T12:27:18.953858Z",
     "shell.execute_reply": "2022-02-20T12:27:18.953455Z",
     "shell.execute_reply.started": "2022-02-20T12:26:41.150891Z"
    },
    "papermill": {
     "duration": 0.250843,
     "end_time": "2022-02-20T12:27:18.953968",
     "exception": false,
     "start_time": "2022-02-20T12:27:18.703125",
     "status": "completed"
    },
    "tags": []
   },
   "outputs": [
    {
     "data": {
      "image/png": "[encoded data removed]",
      "text/plain": [
       "<Figure size 432x288 with 1 Axes>"
      ]
     },
     "metadata": {
      "needs_background": "light"
     },
     "output_type": "display_data"
    }
   ],
   "source": [
    "y.hist()\n",
    "plt.show()"
   ]
  },
  {
   "cell_type": "code",
   "execution_count": 19,
   "id": "828e994b",
   "metadata": {
    "execution": {
     "iopub.execute_input": "2022-02-20T12:27:19.010996Z",
     "iopub.status.busy": "2022-02-20T12:27:19.010300Z",
     "iopub.status.idle": "2022-02-20T12:27:19.579445Z",
     "shell.execute_reply": "2022-02-20T12:27:19.579885Z",
     "shell.execute_reply.started": "2022-02-20T12:26:41.311633Z"
    },
    "papermill": {
     "duration": 0.599653,
     "end_time": "2022-02-20T12:27:19.580008",
     "exception": false,
     "start_time": "2022-02-20T12:27:18.980355",
     "status": "completed"
    },
    "tags": []
   },
   "outputs": [
    {
     "data": {
      "image/png": "[encoded data removed]",
      "text/plain": [
       "<Figure size 1008x720 with 2 Axes>"
      ]
     },
     "metadata": {
      "needs_background": "light"
     },
     "output_type": "display_data"
    }
   ],
   "source": [
    "plt.figure(figsize=(14, 10))\n",
    "sns.heatmap(X.corr(), annot=True)\n",
    "plt.show()"
   ]
  },
  {
   "cell_type": "code",
   "execution_count": 20,
   "id": "1ef220a8",
   "metadata": {
    "execution": {
     "iopub.execute_input": "2022-02-20T12:27:19.641024Z",
     "iopub.status.busy": "2022-02-20T12:27:19.640516Z",
     "iopub.status.idle": "2022-02-20T12:27:19.707965Z",
     "shell.execute_reply": "2022-02-20T12:27:19.708342Z",
     "shell.execute_reply.started": "2022-02-20T12:26:41.915040Z"
    },
    "papermill": {
     "duration": 0.099801,
     "end_time": "2022-02-20T12:27:19.708482",
     "exception": false,
     "start_time": "2022-02-20T12:27:19.608681",
     "status": "completed"
    },
    "tags": []
   },
   "outputs": [],
   "source": [
    "from sklearn.model_selection import train_test_split\n",
    "X_train, X_test, y_train, y_test = train_test_split(X, y, test_size=0.2, random_state=0)"
   ]
  },
  {
   "cell_type": "code",
   "execution_count": 21,
   "id": "dec9f78e",
   "metadata": {
    "execution": {
     "iopub.execute_input": "2022-02-20T12:27:19.766636Z",
     "iopub.status.busy": "2022-02-20T12:27:19.765912Z",
     "iopub.status.idle": "2022-02-20T12:27:19.858456Z",
     "shell.execute_reply": "2022-02-20T12:27:19.858962Z",
     "shell.execute_reply.started": "2022-02-20T12:26:41.976805Z"
    },
    "papermill": {
     "duration": 0.123621,
     "end_time": "2022-02-20T12:27:19.859164",
     "exception": false,
     "start_time": "2022-02-20T12:27:19.735543",
     "status": "completed"
    },
    "tags": []
   },
   "outputs": [],
   "source": [
    "from sklearn.linear_model import LinearRegression"
   ]
  },
  {
   "cell_type": "code",
   "execution_count": 22,
   "id": "fc6b206e",
   "metadata": {
    "execution": {
     "iopub.execute_input": "2022-02-20T12:27:19.944408Z",
     "iopub.status.busy": "2022-02-20T12:27:19.943566Z",
     "iopub.status.idle": "2022-02-20T12:27:19.967253Z",
     "shell.execute_reply": "2022-02-20T12:27:19.966662Z",
     "shell.execute_reply.started": "2022-02-20T12:26:42.069203Z"
    },
    "papermill": {
     "duration": 0.067266,
     "end_time": "2022-02-20T12:27:19.967406",
     "exception": false,
     "start_time": "2022-02-20T12:27:19.900140",
     "status": "completed"
    },
    "tags": []
   },
   "outputs": [],
   "source": [
    "linear_model = LinearRegression().fit(X_train, y_train)"
   ]
  },
  {
   "cell_type": "code",
   "execution_count": 23,
   "id": "fa41487e",
   "metadata": {
    "execution": {
     "iopub.execute_input": "2022-02-20T12:27:20.057370Z",
     "iopub.status.busy": "2022-02-20T12:27:20.056589Z",
     "iopub.status.idle": "2022-02-20T12:27:20.058155Z",
     "shell.execute_reply": "2022-02-20T12:27:20.058741Z",
     "shell.execute_reply.started": "2022-02-20T12:26:42.097361Z"
    },
    "papermill": {
     "duration": 0.049376,
     "end_time": "2022-02-20T12:27:20.058932",
     "exception": false,
     "start_time": "2022-02-20T12:27:20.009556",
     "status": "completed"
    },
    "tags": []
   },
   "outputs": [],
   "source": [
    "from sklearn.metrics import r2_score, mean_squared_error"
   ]
  },
  {
   "cell_type": "code",
   "execution_count": 24,
   "id": "ffe99020",
   "metadata": {
    "execution": {
     "iopub.execute_input": "2022-02-20T12:27:20.153172Z",
     "iopub.status.busy": "2022-02-20T12:27:20.152350Z",
     "iopub.status.idle": "2022-02-20T12:27:20.157158Z",
     "shell.execute_reply": "2022-02-20T12:27:20.156592Z",
     "shell.execute_reply.started": "2022-02-20T12:26:42.105378Z"
    },
    "papermill": {
     "duration": 0.054703,
     "end_time": "2022-02-20T12:27:20.157296",
     "exception": false,
     "start_time": "2022-02-20T12:27:20.102593",
     "status": "completed"
    },
    "tags": []
   },
   "outputs": [
    {
     "data": {
      "text/plain": [
       "0.7999876970680433"
      ]
     },
     "execution_count": 24,
     "metadata": {},
     "output_type": "execute_result"
    }
   ],
   "source": [
    "y_pred = linear_model.predict(X_test)\n",
    "r2_score(y_test, y_pred)"
   ]
  },
  {
   "cell_type": "code",
   "execution_count": 25,
   "id": "995ab461",
   "metadata": {
    "execution": {
     "iopub.execute_input": "2022-02-20T12:27:20.247080Z",
     "iopub.status.busy": "2022-02-20T12:27:20.246455Z",
     "iopub.status.idle": "2022-02-20T12:27:20.251971Z",
     "shell.execute_reply": "2022-02-20T12:27:20.252520Z",
     "shell.execute_reply.started": "2022-02-20T12:26:42.127055Z"
    },
    "papermill": {
     "duration": 0.052042,
     "end_time": "2022-02-20T12:27:20.252705",
     "exception": false,
     "start_time": "2022-02-20T12:27:20.200663",
     "status": "completed"
    },
    "tags": []
   },
   "outputs": [
    {
     "data": {
      "text/plain": [
       "31827950.229523845"
      ]
     },
     "execution_count": 25,
     "metadata": {},
     "output_type": "execute_result"
    }
   ],
   "source": [
    "mean_squared_error(y_test, y_pred)"
   ]
  },
  {
   "cell_type": "code",
   "execution_count": null,
   "id": "42333125",
   "metadata": {
    "papermill": {
     "duration": 0.042437,
     "end_time": "2022-02-20T12:27:20.337343",
     "exception": false,
     "start_time": "2022-02-20T12:27:20.294906",
     "status": "completed"
    },
    "tags": []
   },
   "outputs": [],
   "source": []
  }
 ],
 "metadata": {
  "kernelspec": {
   "display_name": "Python 3",
   "language": "python",
   "name": "python3"
  },
  "language_info": {
   "codemirror_mode": {
    "name": "ipython",
    "version": 3
   },
   "file_extension": ".py",
   "mimetype": "text/x-python",
   "name": "python",
   "nbconvert_exporter": "python",
   "pygments_lexer": "ipython3",
   "version": "3.7.12"
  },
  "papermill": {
   "default_parameters": {},
   "duration": 17.701447,
   "end_time": "2022-02-20T12:27:21.392979",
   "environment_variables": {},
   "exception": null,
   "input_path": "__notebook__.ipynb",
   "output_path": "__notebook__.ipynb",
   "parameters": {},
   "start_time": "2022-02-20T12:27:03.691532",
   "version": "2.3.3"
  }
 },
 "nbformat": 4,
 "nbformat_minor": 5
}
